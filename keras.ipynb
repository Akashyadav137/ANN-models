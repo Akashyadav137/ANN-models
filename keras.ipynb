{
  "nbformat": 4,
  "nbformat_minor": 0,
  "metadata": {
    "colab": {
      "name": "keras.ipynb",
      "provenance": []
    },
    "kernelspec": {
      "name": "python3",
      "display_name": "Python 3"
    },
    "language_info": {
      "name": "python"
    }
  },
  "cells": [
    {
      "cell_type": "code",
      "metadata": {
        "id": "HecubsVtyzF7"
      },
      "source": [
        ""
      ],
      "execution_count": null,
      "outputs": []
    },
    {
      "cell_type": "code",
      "metadata": {
        "id": "b1iAlmQJBN_h"
      },
      "source": [
        "# !pip install autoviz"
      ],
      "execution_count": 1,
      "outputs": []
    },
    {
      "cell_type": "code",
      "metadata": {
        "id": "gdCrWBBfBSjq"
      },
      "source": [
        "import pandas as pd\n",
        "import numpy as np\n",
        "import re\n",
        "import matplotlib.pyplot as plt\n",
        "import seaborn as sns\n",
        "import keras\n",
        "from sklearn.metrics import confusion_matrix\n",
        "from sklearn.metrics import classification_report"
      ],
      "execution_count": 35,
      "outputs": []
    },
    {
      "cell_type": "code",
      "metadata": {
        "id": "-UuXGs2_zaIS"
      },
      "source": [
        "df= pd.read_csv(\"/content/Churn_Modelling.csv\")"
      ],
      "execution_count": 3,
      "outputs": []
    },
    {
      "cell_type": "code",
      "metadata": {
        "colab": {
          "base_uri": "https://localhost:8080/",
          "height": 214
        },
        "id": "mi71APbYzaN0",
        "outputId": "bf260b53-26e7-4e4d-db70-e88fe5b6b6dc"
      },
      "source": [
        "df.head()"
      ],
      "execution_count": 4,
      "outputs": [
        {
          "output_type": "execute_result",
          "data": {
            "text/html": [
              "<div>\n",
              "<style scoped>\n",
              "    .dataframe tbody tr th:only-of-type {\n",
              "        vertical-align: middle;\n",
              "    }\n",
              "\n",
              "    .dataframe tbody tr th {\n",
              "        vertical-align: top;\n",
              "    }\n",
              "\n",
              "    .dataframe thead th {\n",
              "        text-align: right;\n",
              "    }\n",
              "</style>\n",
              "<table border=\"1\" class=\"dataframe\">\n",
              "  <thead>\n",
              "    <tr style=\"text-align: right;\">\n",
              "      <th></th>\n",
              "      <th>RowNumber</th>\n",
              "      <th>CustomerId</th>\n",
              "      <th>Surname</th>\n",
              "      <th>CreditScore</th>\n",
              "      <th>Geography</th>\n",
              "      <th>Gender</th>\n",
              "      <th>Age</th>\n",
              "      <th>Tenure</th>\n",
              "      <th>Balance</th>\n",
              "      <th>NumOfProducts</th>\n",
              "      <th>HasCrCard</th>\n",
              "      <th>IsActiveMember</th>\n",
              "      <th>EstimatedSalary</th>\n",
              "      <th>Exited</th>\n",
              "    </tr>\n",
              "  </thead>\n",
              "  <tbody>\n",
              "    <tr>\n",
              "      <th>0</th>\n",
              "      <td>1</td>\n",
              "      <td>15634602</td>\n",
              "      <td>Hargrave</td>\n",
              "      <td>619</td>\n",
              "      <td>France</td>\n",
              "      <td>Female</td>\n",
              "      <td>42</td>\n",
              "      <td>2</td>\n",
              "      <td>0.00</td>\n",
              "      <td>1</td>\n",
              "      <td>1</td>\n",
              "      <td>1</td>\n",
              "      <td>101348.88</td>\n",
              "      <td>1</td>\n",
              "    </tr>\n",
              "    <tr>\n",
              "      <th>1</th>\n",
              "      <td>2</td>\n",
              "      <td>15647311</td>\n",
              "      <td>Hill</td>\n",
              "      <td>608</td>\n",
              "      <td>Spain</td>\n",
              "      <td>Female</td>\n",
              "      <td>41</td>\n",
              "      <td>1</td>\n",
              "      <td>83807.86</td>\n",
              "      <td>1</td>\n",
              "      <td>0</td>\n",
              "      <td>1</td>\n",
              "      <td>112542.58</td>\n",
              "      <td>0</td>\n",
              "    </tr>\n",
              "    <tr>\n",
              "      <th>2</th>\n",
              "      <td>3</td>\n",
              "      <td>15619304</td>\n",
              "      <td>Onio</td>\n",
              "      <td>502</td>\n",
              "      <td>France</td>\n",
              "      <td>Female</td>\n",
              "      <td>42</td>\n",
              "      <td>8</td>\n",
              "      <td>159660.80</td>\n",
              "      <td>3</td>\n",
              "      <td>1</td>\n",
              "      <td>0</td>\n",
              "      <td>113931.57</td>\n",
              "      <td>1</td>\n",
              "    </tr>\n",
              "    <tr>\n",
              "      <th>3</th>\n",
              "      <td>4</td>\n",
              "      <td>15701354</td>\n",
              "      <td>Boni</td>\n",
              "      <td>699</td>\n",
              "      <td>France</td>\n",
              "      <td>Female</td>\n",
              "      <td>39</td>\n",
              "      <td>1</td>\n",
              "      <td>0.00</td>\n",
              "      <td>2</td>\n",
              "      <td>0</td>\n",
              "      <td>0</td>\n",
              "      <td>93826.63</td>\n",
              "      <td>0</td>\n",
              "    </tr>\n",
              "    <tr>\n",
              "      <th>4</th>\n",
              "      <td>5</td>\n",
              "      <td>15737888</td>\n",
              "      <td>Mitchell</td>\n",
              "      <td>850</td>\n",
              "      <td>Spain</td>\n",
              "      <td>Female</td>\n",
              "      <td>43</td>\n",
              "      <td>2</td>\n",
              "      <td>125510.82</td>\n",
              "      <td>1</td>\n",
              "      <td>1</td>\n",
              "      <td>1</td>\n",
              "      <td>79084.10</td>\n",
              "      <td>0</td>\n",
              "    </tr>\n",
              "  </tbody>\n",
              "</table>\n",
              "</div>"
            ],
            "text/plain": [
              "   RowNumber  CustomerId   Surname  ...  IsActiveMember EstimatedSalary Exited\n",
              "0          1    15634602  Hargrave  ...               1       101348.88      1\n",
              "1          2    15647311      Hill  ...               1       112542.58      0\n",
              "2          3    15619304      Onio  ...               0       113931.57      1\n",
              "3          4    15701354      Boni  ...               0        93826.63      0\n",
              "4          5    15737888  Mitchell  ...               1        79084.10      0\n",
              "\n",
              "[5 rows x 14 columns]"
            ]
          },
          "metadata": {
            "tags": []
          },
          "execution_count": 4
        }
      ]
    },
    {
      "cell_type": "code",
      "metadata": {
        "colab": {
          "base_uri": "https://localhost:8080/"
        },
        "id": "ue64tET2zaXP",
        "outputId": "b6c645c1-b8ee-4a29-9aac-caf2d0ed6b73"
      },
      "source": [
        "df.shape"
      ],
      "execution_count": 5,
      "outputs": [
        {
          "output_type": "execute_result",
          "data": {
            "text/plain": [
              "(10000, 14)"
            ]
          },
          "metadata": {
            "tags": []
          },
          "execution_count": 5
        }
      ]
    },
    {
      "cell_type": "code",
      "metadata": {
        "colab": {
          "base_uri": "https://localhost:8080/"
        },
        "id": "A7cFbK_m6ikC",
        "outputId": "8aa361dd-80fe-4fc7-9246-d6ffc9a038df"
      },
      "source": [
        "df.columns"
      ],
      "execution_count": 6,
      "outputs": [
        {
          "output_type": "execute_result",
          "data": {
            "text/plain": [
              "Index(['RowNumber', 'CustomerId', 'Surname', 'CreditScore', 'Geography',\n",
              "       'Gender', 'Age', 'Tenure', 'Balance', 'NumOfProducts', 'HasCrCard',\n",
              "       'IsActiveMember', 'EstimatedSalary', 'Exited'],\n",
              "      dtype='object')"
            ]
          },
          "metadata": {
            "tags": []
          },
          "execution_count": 6
        }
      ]
    },
    {
      "cell_type": "code",
      "metadata": {
        "colab": {
          "base_uri": "https://localhost:8080/"
        },
        "id": "KuSXTnw26qer",
        "outputId": "eaf0da01-9e42-487d-db76-cc058d613e5f"
      },
      "source": [
        "df['Exited'].value_counts()"
      ],
      "execution_count": 7,
      "outputs": [
        {
          "output_type": "execute_result",
          "data": {
            "text/plain": [
              "0    7963\n",
              "1    2037\n",
              "Name: Exited, dtype: int64"
            ]
          },
          "metadata": {
            "tags": []
          },
          "execution_count": 7
        }
      ]
    },
    {
      "cell_type": "markdown",
      "metadata": {
        "id": "RnH-D5QX9rok"
      },
      "source": [
        "first we drop three columns which is RowNumber, CustomerId and Surname this columns are not use full."
      ]
    },
    {
      "cell_type": "code",
      "metadata": {
        "id": "E1SJc3Sj9JXt"
      },
      "source": [
        "df=df.drop(['RowNumber','CustomerId','Surname'],axis=1)"
      ],
      "execution_count": 8,
      "outputs": []
    },
    {
      "cell_type": "code",
      "metadata": {
        "colab": {
          "base_uri": "https://localhost:8080/",
          "height": 194
        },
        "id": "uRQA-_kC9Jmv",
        "outputId": "c2a6c729-3ea3-43b0-d421-e3f4f354dc45"
      },
      "source": [
        "df.head()"
      ],
      "execution_count": 9,
      "outputs": [
        {
          "output_type": "execute_result",
          "data": {
            "text/html": [
              "<div>\n",
              "<style scoped>\n",
              "    .dataframe tbody tr th:only-of-type {\n",
              "        vertical-align: middle;\n",
              "    }\n",
              "\n",
              "    .dataframe tbody tr th {\n",
              "        vertical-align: top;\n",
              "    }\n",
              "\n",
              "    .dataframe thead th {\n",
              "        text-align: right;\n",
              "    }\n",
              "</style>\n",
              "<table border=\"1\" class=\"dataframe\">\n",
              "  <thead>\n",
              "    <tr style=\"text-align: right;\">\n",
              "      <th></th>\n",
              "      <th>CreditScore</th>\n",
              "      <th>Geography</th>\n",
              "      <th>Gender</th>\n",
              "      <th>Age</th>\n",
              "      <th>Tenure</th>\n",
              "      <th>Balance</th>\n",
              "      <th>NumOfProducts</th>\n",
              "      <th>HasCrCard</th>\n",
              "      <th>IsActiveMember</th>\n",
              "      <th>EstimatedSalary</th>\n",
              "      <th>Exited</th>\n",
              "    </tr>\n",
              "  </thead>\n",
              "  <tbody>\n",
              "    <tr>\n",
              "      <th>0</th>\n",
              "      <td>619</td>\n",
              "      <td>France</td>\n",
              "      <td>Female</td>\n",
              "      <td>42</td>\n",
              "      <td>2</td>\n",
              "      <td>0.00</td>\n",
              "      <td>1</td>\n",
              "      <td>1</td>\n",
              "      <td>1</td>\n",
              "      <td>101348.88</td>\n",
              "      <td>1</td>\n",
              "    </tr>\n",
              "    <tr>\n",
              "      <th>1</th>\n",
              "      <td>608</td>\n",
              "      <td>Spain</td>\n",
              "      <td>Female</td>\n",
              "      <td>41</td>\n",
              "      <td>1</td>\n",
              "      <td>83807.86</td>\n",
              "      <td>1</td>\n",
              "      <td>0</td>\n",
              "      <td>1</td>\n",
              "      <td>112542.58</td>\n",
              "      <td>0</td>\n",
              "    </tr>\n",
              "    <tr>\n",
              "      <th>2</th>\n",
              "      <td>502</td>\n",
              "      <td>France</td>\n",
              "      <td>Female</td>\n",
              "      <td>42</td>\n",
              "      <td>8</td>\n",
              "      <td>159660.80</td>\n",
              "      <td>3</td>\n",
              "      <td>1</td>\n",
              "      <td>0</td>\n",
              "      <td>113931.57</td>\n",
              "      <td>1</td>\n",
              "    </tr>\n",
              "    <tr>\n",
              "      <th>3</th>\n",
              "      <td>699</td>\n",
              "      <td>France</td>\n",
              "      <td>Female</td>\n",
              "      <td>39</td>\n",
              "      <td>1</td>\n",
              "      <td>0.00</td>\n",
              "      <td>2</td>\n",
              "      <td>0</td>\n",
              "      <td>0</td>\n",
              "      <td>93826.63</td>\n",
              "      <td>0</td>\n",
              "    </tr>\n",
              "    <tr>\n",
              "      <th>4</th>\n",
              "      <td>850</td>\n",
              "      <td>Spain</td>\n",
              "      <td>Female</td>\n",
              "      <td>43</td>\n",
              "      <td>2</td>\n",
              "      <td>125510.82</td>\n",
              "      <td>1</td>\n",
              "      <td>1</td>\n",
              "      <td>1</td>\n",
              "      <td>79084.10</td>\n",
              "      <td>0</td>\n",
              "    </tr>\n",
              "  </tbody>\n",
              "</table>\n",
              "</div>"
            ],
            "text/plain": [
              "   CreditScore Geography  Gender  ...  IsActiveMember  EstimatedSalary  Exited\n",
              "0          619    France  Female  ...               1        101348.88       1\n",
              "1          608     Spain  Female  ...               1        112542.58       0\n",
              "2          502    France  Female  ...               0        113931.57       1\n",
              "3          699    France  Female  ...               0         93826.63       0\n",
              "4          850     Spain  Female  ...               1         79084.10       0\n",
              "\n",
              "[5 rows x 11 columns]"
            ]
          },
          "metadata": {
            "tags": []
          },
          "execution_count": 9
        }
      ]
    },
    {
      "cell_type": "markdown",
      "metadata": {
        "id": "D8NhvdGNECy7"
      },
      "source": [
        "**data analysis**"
      ]
    },
    {
      "cell_type": "code",
      "metadata": {
        "colab": {
          "base_uri": "https://localhost:8080/",
          "height": 627
        },
        "id": "oiTT4hZWBhQ-",
        "outputId": "f651376c-0d63-453d-ca85-c7ed50423b24"
      },
      "source": [
        "y_value_counts = df['Exited'].value_counts()\n",
        "print(\"Number of people that are exited\", y_value_counts[1], \", (\", (y_value_counts[1]/(y_value_counts[1]+y_value_counts[0]))*100,\"%)\")\n",
        "print(\"Number of people that are exited\", y_value_counts[0], \", (\", (y_value_counts[0]/(y_value_counts[1]+y_value_counts[0]))*100,\"%)\")\n",
        "fig, ax = plt.subplots(figsize=(10, 10), subplot_kw=dict(aspect=\"equal\"))\n",
        "recipe = [\"Exited\", \"Not Exited\"]\n",
        "data = [y_value_counts[1], y_value_counts[0]]\n",
        "wedges, texts = ax.pie(data, wedgeprops=dict(width=0.5), startangle=-40)\n",
        "bbox_props = dict(boxstyle=\"square,pad=0.3\", fc=\"w\", ec=\"k\", lw=0.72)\n",
        "kw = dict(xycoords='data', textcoords='data', arrowprops=dict(arrowstyle=\"-\"),\n",
        "          bbox=bbox_props, zorder=0, va=\"center\")\n",
        "for i, p in enumerate(wedges):\n",
        "    ang = (p.theta2 - p.theta1)/2. + p.theta1\n",
        "    y = np.sin(np.deg2rad(ang))\n",
        "    x = np.cos(np.deg2rad(ang))\n",
        "    horizontalalignment = {-1: \"right\", 1: \"left\"}[int(np.sign(x))]\n",
        "    connectionstyle = \"angle,angleA=0,angleB={}\".format(ang)\n",
        "    kw[\"arrowprops\"].update({\"connectionstyle\": connectionstyle})\n",
        "    ax.annotate(recipe[i], xy=(x, y), xytext=(1.35*np.sign(x), 1.4*y),\n",
        "                 horizontalalignment=horizontalalignment, **kw)\n",
        "ax.set_title(\"Nmber of people that are Exited and Not Exited\")\n",
        "plt.show()"
      ],
      "execution_count": 10,
      "outputs": [
        {
          "output_type": "stream",
          "text": [
            "Number of people that are exited 2037 , ( 20.369999999999997 %)\n",
            "Number of people that are exited 7963 , ( 79.63 %)\n"
          ],
          "name": "stdout"
        },
        {
          "output_type": "display_data",
          "data": {
            "image/png": "[encoded data removed]",
            "text/plain": [
              "<Figure size 720x720 with 1 Axes>"
            ]
          },
          "metadata": {
            "tags": []
          }
        }
      ]
    },
    {
      "cell_type": "markdown",
      "metadata": {
        "id": "WDv3hOJFLpw1"
      },
      "source": [
        "**Check for null**"
      ]
    },
    {
      "cell_type": "code",
      "metadata": {
        "colab": {
          "base_uri": "https://localhost:8080/"
        },
        "id": "oLj87nVZ_SD6",
        "outputId": "8bbd4158-6709-43e8-8269-9a6212f2179d"
      },
      "source": [
        "df.isnull().sum()"
      ],
      "execution_count": 11,
      "outputs": [
        {
          "output_type": "execute_result",
          "data": {
            "text/plain": [
              "CreditScore        0\n",
              "Geography          0\n",
              "Gender             0\n",
              "Age                0\n",
              "Tenure             0\n",
              "Balance            0\n",
              "NumOfProducts      0\n",
              "HasCrCard          0\n",
              "IsActiveMember     0\n",
              "EstimatedSalary    0\n",
              "Exited             0\n",
              "dtype: int64"
            ]
          },
          "metadata": {
            "tags": []
          },
          "execution_count": 11
        }
      ]
    },
    {
      "cell_type": "markdown",
      "metadata": {
        "id": "v2ixwhzNkZBJ"
      },
      "source": [
        "**Data Model Ready: encoding numerical, categorical features**"
      ]
    },
    {
      "cell_type": "code",
      "metadata": {
        "id": "pxr7fGCUkR71"
      },
      "source": [
        "geography=pd.get_dummies(df['Geography'])\n",
        "gender=pd.get_dummies(df['Gender'])"
      ],
      "execution_count": 12,
      "outputs": []
    },
    {
      "cell_type": "code",
      "metadata": {
        "id": "MshQmNW-kbKy"
      },
      "source": [
        "finalDataFrame=pd.concat([df,geography,gender],axis=1)"
      ],
      "execution_count": 13,
      "outputs": []
    },
    {
      "cell_type": "code",
      "metadata": {
        "id": "dcEB3qMvlcMM"
      },
      "source": [
        "finalDataFrame=finalDataFrame.drop(['Gender','Geography'],axis=1)"
      ],
      "execution_count": 14,
      "outputs": []
    },
    {
      "cell_type": "markdown",
      "metadata": {
        "id": "siZc4X_kaTQB"
      },
      "source": [
        "**split the data in train and test**"
      ]
    },
    {
      "cell_type": "code",
      "metadata": {
        "id": "Q0tIlvpraPVI"
      },
      "source": [
        "from sklearn.model_selection import train_test_split"
      ],
      "execution_count": 15,
      "outputs": []
    },
    {
      "cell_type": "code",
      "metadata": {
        "colab": {
          "base_uri": "https://localhost:8080/"
        },
        "id": "qtfm429BmsYZ",
        "outputId": "29411312-319f-4edc-c379-9c605d7d90d0"
      },
      "source": [
        "finalDataFrame.columns"
      ],
      "execution_count": 16,
      "outputs": [
        {
          "output_type": "execute_result",
          "data": {
            "text/plain": [
              "Index(['CreditScore', 'Age', 'Tenure', 'Balance', 'NumOfProducts', 'HasCrCard',\n",
              "       'IsActiveMember', 'EstimatedSalary', 'Exited', 'France', 'Germany',\n",
              "       'Spain', 'Female', 'Male'],\n",
              "      dtype='object')"
            ]
          },
          "metadata": {
            "tags": []
          },
          "execution_count": 16
        }
      ]
    },
    {
      "cell_type": "code",
      "metadata": {
        "id": "kl_ojOO6mxap"
      },
      "source": [
        "data=finalDataFrame.iloc[:,[0,1,2,4,5,6,7,9,10,11,12,13]]\n",
        "target=finalDataFrame.iloc[:,[8]]"
      ],
      "execution_count": 17,
      "outputs": []
    },
    {
      "cell_type": "code",
      "metadata": {
        "id": "SLCJiVKnbXrN"
      },
      "source": [
        "X_train, X_test, y_train, y_test = train_test_split(data,target , stratify=target , test_size=0.3) # this is random splitting"
      ],
      "execution_count": 18,
      "outputs": []
    },
    {
      "cell_type": "code",
      "metadata": {
        "colab": {
          "base_uri": "https://localhost:8080/"
        },
        "id": "T8j0_HTRbX7R",
        "outputId": "cec7c479-140e-4ad1-9025-4423ed8a2af3"
      },
      "source": [
        "print(X_train.shape,y_train.shape)\n",
        "print(X_test.shape,y_test.shape)"
      ],
      "execution_count": 19,
      "outputs": [
        {
          "output_type": "stream",
          "text": [
            "(7000, 12) (7000, 1)\n",
            "(3000, 12) (3000, 1)\n"
          ],
          "name": "stdout"
        }
      ]
    },
    {
      "cell_type": "code",
      "metadata": {
        "id": "VKBFNMi3LUQ5"
      },
      "source": [
        "from sklearn.preprocessing import StandardScaler"
      ],
      "execution_count": 20,
      "outputs": []
    },
    {
      "cell_type": "code",
      "metadata": {
        "id": "0HmH4EBFLUfT"
      },
      "source": [
        "prepro=StandardScaler()\n",
        "X_train=prepro.fit_transform(X_train)\n",
        "X_test=prepro.transform(X_test)"
      ],
      "execution_count": 21,
      "outputs": []
    },
    {
      "cell_type": "code",
      "metadata": {
        "id": "5k2qceVcs9Ta"
      },
      "source": [
        ""
      ],
      "execution_count": 21,
      "outputs": []
    },
    {
      "cell_type": "markdown",
      "metadata": {
        "id": "MAAckWSNs9oV"
      },
      "source": [
        "**Models one**"
      ]
    },
    {
      "cell_type": "code",
      "metadata": {
        "id": "2hEW6BZm1cLK"
      },
      "source": [
        "import keras\n",
        "from keras.models import Sequential\n",
        "from keras.layers import Dense\n",
        "from keras.layers import LeakyReLU,PReLU,ELU\n",
        "from keras.layers import Dropout"
      ],
      "execution_count": 22,
      "outputs": []
    },
    {
      "cell_type": "code",
      "metadata": {
        "id": "ocW6VLAIp-tk"
      },
      "source": [
        "#create a function for auc and roc curve \n",
        "#it give all the matrix and classification_report\n",
        "def report(y_test,y_pred):\n",
        "    # null_accuracy = y_test.value_counts()[0]/len(y_test)\n",
        "    # print(f\"Null Accuracy: {null_accuracy*100:.4f}%\")\n",
        "    print(\"Confusion Matrix\")\n",
        "    matrix = confusion_matrix(y_test,y_pred)\n",
        "    print(matrix)\n",
        "    print(\"+++++++++++++++++++++++++++++++++++++++++++++++++++++++++++++++++++++++++++\")\n",
        "    TN = matrix[0,0]\n",
        "    FP = matrix[0,1]\n",
        "    FN = matrix[1,0]\n",
        "    TP = matrix[1,1]\n",
        "    accuracy_score=(TN+TP) / float(TP+TN+FP+FN)\n",
        "    recall_score = (TP)/ float(TP+FN)\n",
        "    specificity = TN / float(TN+FP)\n",
        "    FPR = FP / float(FP+TN)\n",
        "    precision_score = TP / float(TP+FP)\n",
        "    print(f\"Accuracy Score: {accuracy_score*100:.4f}%\")\n",
        "    print(f\"Recall Score: {recall_score*100:.4f}%\")\n",
        "    print(f\"Specificity Score: {specificity*100:.4f}%\")\n",
        "    print(f\"False Positive Rate: {FPR*100:.4f}%\")\n",
        "    print(f\"Precision Score: {precision_score*100:.4f}%\")\n",
        "    print(\"+++++++++++++++++++++++++++++++++++++++++++++++++++++++++++++++++++++++++++\")\n",
        "    print(\"Classification Report\")\n",
        "    print(classification_report(y_test,y_pred))    "
      ],
      "execution_count": 23,
      "outputs": []
    },
    {
      "cell_type": "code",
      "metadata": {
        "colab": {
          "base_uri": "https://localhost:8080/"
        },
        "id": "OTmUNSTlp-yy",
        "outputId": "66e76c2f-85d6-43d6-bb80-5fd913ffe70e"
      },
      "source": [
        "classifier=Sequential()\n",
        "classifier.add(Dense(units = 6, kernel_initializer='he_uniform',activation='relu',input_dim =X_train.shape[1]))\n",
        "classifier.add(Dense(units=6,kernel_initializer='he_uniform',activation='relu'))\n",
        "classifier.add(Dense(units=1,kernel_initializer='glorot_uniform',activation='sigmoid'))\n",
        "classifier.summary()"
      ],
      "execution_count": 42,
      "outputs": [
        {
          "output_type": "stream",
          "text": [
            "Model: \"sequential_1\"\n",
            "_________________________________________________________________\n",
            "Layer (type)                 Output Shape              Param #   \n",
            "=================================================================\n",
            "dense_3 (Dense)              (None, 6)                 78        \n",
            "_________________________________________________________________\n",
            "dense_4 (Dense)              (None, 6)                 42        \n",
            "_________________________________________________________________\n",
            "dense_5 (Dense)              (None, 1)                 7         \n",
            "=================================================================\n",
            "Total params: 127\n",
            "Trainable params: 127\n",
            "Non-trainable params: 0\n",
            "_________________________________________________________________\n"
          ],
          "name": "stdout"
        }
      ]
    },
    {
      "cell_type": "code",
      "metadata": {
        "id": "xNNclYAmp-4L"
      },
      "source": [
        ""
      ],
      "execution_count": 42,
      "outputs": []
    },
    {
      "cell_type": "code",
      "metadata": {
        "id": "5V9hAGQqp-9V"
      },
      "source": [
        "# Compiling the ANN\n",
        "classifier.compile(optimizer = 'Adamax', loss = 'binary_crossentropy', metrics = ['accuracy'])\n",
        "# Fitting the ANN to the Training set\n",
        "model_history=classifier.fit(X_train, y_train,validation_split=0.33, batch_size = 10,epochs=100)"
      ],
      "execution_count": 26,
      "outputs": []
    },
    {
      "cell_type": "code",
      "metadata": {
        "colab": {
          "base_uri": "https://localhost:8080/"
        },
        "id": "MOspheu2p_BD",
        "outputId": "c743467e-d878-4135-fc3f-1b62ad431b75"
      },
      "source": [
        ""
      ],
      "execution_count": 27,
      "outputs": [
        {
          "output_type": "stream",
          "text": [
            "Epoch 1/100\n",
            "469/469 [==============================] - 2s 3ms/step - loss: 0.8680 - accuracy: 0.4555 - val_loss: 0.6294 - val_accuracy: 0.6850\n",
            "Epoch 2/100\n",
            "469/469 [==============================] - 1s 2ms/step - loss: 0.6034 - accuracy: 0.7220 - val_loss: 0.5448 - val_accuracy: 0.7711\n",
            "Epoch 3/100\n",
            "469/469 [==============================] - 1s 2ms/step - loss: 0.5532 - accuracy: 0.7671 - val_loss: 0.5099 - val_accuracy: 0.7858\n",
            "Epoch 4/100\n",
            "469/469 [==============================] - 1s 2ms/step - loss: 0.4849 - accuracy: 0.8011 - val_loss: 0.4921 - val_accuracy: 0.7910\n",
            "Epoch 5/100\n",
            "469/469 [==============================] - 1s 2ms/step - loss: 0.5000 - accuracy: 0.7796 - val_loss: 0.4808 - val_accuracy: 0.7927\n",
            "Epoch 6/100\n",
            "469/469 [==============================] - 1s 2ms/step - loss: 0.4825 - accuracy: 0.7864 - val_loss: 0.4720 - val_accuracy: 0.7936\n",
            "Epoch 7/100\n",
            "469/469 [==============================] - 1s 2ms/step - loss: 0.4709 - accuracy: 0.7966 - val_loss: 0.4648 - val_accuracy: 0.7953\n",
            "Epoch 8/100\n",
            "469/469 [==============================] - 1s 2ms/step - loss: 0.4883 - accuracy: 0.7764 - val_loss: 0.4592 - val_accuracy: 0.7953\n",
            "Epoch 9/100\n",
            "469/469 [==============================] - 1s 2ms/step - loss: 0.4673 - accuracy: 0.7888 - val_loss: 0.4541 - val_accuracy: 0.7962\n",
            "Epoch 10/100\n",
            "469/469 [==============================] - 1s 2ms/step - loss: 0.4537 - accuracy: 0.7977 - val_loss: 0.4497 - val_accuracy: 0.7979\n",
            "Epoch 11/100\n",
            "469/469 [==============================] - 1s 2ms/step - loss: 0.4496 - accuracy: 0.7953 - val_loss: 0.4454 - val_accuracy: 0.7997\n",
            "Epoch 12/100\n",
            "469/469 [==============================] - 1s 2ms/step - loss: 0.4418 - accuracy: 0.7964 - val_loss: 0.4417 - val_accuracy: 0.8014\n",
            "Epoch 13/100\n",
            "469/469 [==============================] - 1s 2ms/step - loss: 0.4257 - accuracy: 0.8077 - val_loss: 0.4384 - val_accuracy: 0.8040\n",
            "Epoch 14/100\n",
            "469/469 [==============================] - 1s 1ms/step - loss: 0.4506 - accuracy: 0.7883 - val_loss: 0.4348 - val_accuracy: 0.8057\n",
            "Epoch 15/100\n",
            "469/469 [==============================] - 1s 2ms/step - loss: 0.4361 - accuracy: 0.7979 - val_loss: 0.4314 - val_accuracy: 0.8083\n",
            "Epoch 16/100\n",
            "469/469 [==============================] - 1s 1ms/step - loss: 0.4119 - accuracy: 0.8104 - val_loss: 0.4280 - val_accuracy: 0.8118\n",
            "Epoch 17/100\n",
            "469/469 [==============================] - 1s 2ms/step - loss: 0.4166 - accuracy: 0.8169 - val_loss: 0.4247 - val_accuracy: 0.8161\n",
            "Epoch 18/100\n",
            "469/469 [==============================] - 1s 2ms/step - loss: 0.4285 - accuracy: 0.8083 - val_loss: 0.4212 - val_accuracy: 0.8200\n",
            "Epoch 19/100\n",
            "469/469 [==============================] - 1s 2ms/step - loss: 0.4121 - accuracy: 0.8130 - val_loss: 0.4183 - val_accuracy: 0.8235\n",
            "Epoch 20/100\n",
            "469/469 [==============================] - 1s 2ms/step - loss: 0.4126 - accuracy: 0.8176 - val_loss: 0.4153 - val_accuracy: 0.8248\n",
            "Epoch 21/100\n",
            "469/469 [==============================] - 1s 2ms/step - loss: 0.4154 - accuracy: 0.8209 - val_loss: 0.4126 - val_accuracy: 0.8243\n",
            "Epoch 22/100\n",
            "469/469 [==============================] - 1s 2ms/step - loss: 0.4056 - accuracy: 0.8238 - val_loss: 0.4096 - val_accuracy: 0.8260\n",
            "Epoch 23/100\n",
            "469/469 [==============================] - 1s 2ms/step - loss: 0.4032 - accuracy: 0.8219 - val_loss: 0.4071 - val_accuracy: 0.8260\n",
            "Epoch 24/100\n",
            "469/469 [==============================] - 1s 2ms/step - loss: 0.3923 - accuracy: 0.8279 - val_loss: 0.4048 - val_accuracy: 0.8304\n",
            "Epoch 25/100\n",
            "469/469 [==============================] - 1s 2ms/step - loss: 0.3947 - accuracy: 0.8248 - val_loss: 0.4028 - val_accuracy: 0.8308\n",
            "Epoch 26/100\n",
            "469/469 [==============================] - 1s 2ms/step - loss: 0.3947 - accuracy: 0.8277 - val_loss: 0.4007 - val_accuracy: 0.8317\n",
            "Epoch 27/100\n",
            "469/469 [==============================] - 1s 2ms/step - loss: 0.3975 - accuracy: 0.8263 - val_loss: 0.3985 - val_accuracy: 0.8325\n",
            "Epoch 28/100\n",
            "469/469 [==============================] - 1s 2ms/step - loss: 0.3788 - accuracy: 0.8336 - val_loss: 0.3968 - val_accuracy: 0.8317\n",
            "Epoch 29/100\n",
            "469/469 [==============================] - 1s 2ms/step - loss: 0.3919 - accuracy: 0.8347 - val_loss: 0.3951 - val_accuracy: 0.8351\n",
            "Epoch 30/100\n",
            "469/469 [==============================] - 1s 2ms/step - loss: 0.3865 - accuracy: 0.8337 - val_loss: 0.3933 - val_accuracy: 0.8369\n",
            "Epoch 31/100\n",
            "469/469 [==============================] - 1s 2ms/step - loss: 0.3880 - accuracy: 0.8328 - val_loss: 0.3915 - val_accuracy: 0.8351\n",
            "Epoch 32/100\n",
            "469/469 [==============================] - 1s 2ms/step - loss: 0.4007 - accuracy: 0.8281 - val_loss: 0.3903 - val_accuracy: 0.8364\n",
            "Epoch 33/100\n",
            "469/469 [==============================] - 1s 2ms/step - loss: 0.3814 - accuracy: 0.8396 - val_loss: 0.3889 - val_accuracy: 0.8373\n",
            "Epoch 34/100\n",
            "469/469 [==============================] - 1s 2ms/step - loss: 0.3695 - accuracy: 0.8430 - val_loss: 0.3876 - val_accuracy: 0.8373\n",
            "Epoch 35/100\n",
            "469/469 [==============================] - 1s 2ms/step - loss: 0.3767 - accuracy: 0.8369 - val_loss: 0.3863 - val_accuracy: 0.8364\n",
            "Epoch 36/100\n",
            "469/469 [==============================] - 1s 2ms/step - loss: 0.3837 - accuracy: 0.8394 - val_loss: 0.3853 - val_accuracy: 0.8356\n",
            "Epoch 37/100\n",
            "469/469 [==============================] - 1s 2ms/step - loss: 0.3639 - accuracy: 0.8479 - val_loss: 0.3843 - val_accuracy: 0.8360\n",
            "Epoch 38/100\n",
            "469/469 [==============================] - 1s 2ms/step - loss: 0.3750 - accuracy: 0.8425 - val_loss: 0.3833 - val_accuracy: 0.8369\n",
            "Epoch 39/100\n",
            "469/469 [==============================] - 1s 2ms/step - loss: 0.3697 - accuracy: 0.8444 - val_loss: 0.3826 - val_accuracy: 0.8356\n",
            "Epoch 40/100\n",
            "469/469 [==============================] - 1s 2ms/step - loss: 0.3787 - accuracy: 0.8427 - val_loss: 0.3819 - val_accuracy: 0.8360\n",
            "Epoch 41/100\n",
            "469/469 [==============================] - 1s 2ms/step - loss: 0.3766 - accuracy: 0.8462 - val_loss: 0.3810 - val_accuracy: 0.8369\n",
            "Epoch 42/100\n",
            "469/469 [==============================] - 1s 2ms/step - loss: 0.3608 - accuracy: 0.8520 - val_loss: 0.3800 - val_accuracy: 0.8360\n",
            "Epoch 43/100\n",
            "469/469 [==============================] - 1s 2ms/step - loss: 0.3902 - accuracy: 0.8361 - val_loss: 0.3790 - val_accuracy: 0.8395\n",
            "Epoch 44/100\n",
            "469/469 [==============================] - 1s 2ms/step - loss: 0.3685 - accuracy: 0.8517 - val_loss: 0.3782 - val_accuracy: 0.8364\n",
            "Epoch 45/100\n",
            "469/469 [==============================] - 1s 2ms/step - loss: 0.3806 - accuracy: 0.8467 - val_loss: 0.3774 - val_accuracy: 0.8373\n",
            "Epoch 46/100\n",
            "469/469 [==============================] - 1s 1ms/step - loss: 0.3753 - accuracy: 0.8404 - val_loss: 0.3768 - val_accuracy: 0.8386\n",
            "Epoch 47/100\n",
            "469/469 [==============================] - 1s 1ms/step - loss: 0.3776 - accuracy: 0.8473 - val_loss: 0.3760 - val_accuracy: 0.8408\n",
            "Epoch 48/100\n",
            "469/469 [==============================] - 1s 2ms/step - loss: 0.3660 - accuracy: 0.8562 - val_loss: 0.3754 - val_accuracy: 0.8412\n",
            "Epoch 49/100\n",
            "469/469 [==============================] - 1s 2ms/step - loss: 0.3621 - accuracy: 0.8566 - val_loss: 0.3749 - val_accuracy: 0.8395\n",
            "Epoch 50/100\n",
            "469/469 [==============================] - 1s 2ms/step - loss: 0.3632 - accuracy: 0.8570 - val_loss: 0.3741 - val_accuracy: 0.8412\n",
            "Epoch 51/100\n",
            "469/469 [==============================] - 1s 2ms/step - loss: 0.3657 - accuracy: 0.8466 - val_loss: 0.3735 - val_accuracy: 0.8421\n",
            "Epoch 52/100\n",
            "469/469 [==============================] - 1s 2ms/step - loss: 0.3629 - accuracy: 0.8500 - val_loss: 0.3728 - val_accuracy: 0.8425\n",
            "Epoch 53/100\n",
            "469/469 [==============================] - 1s 2ms/step - loss: 0.3549 - accuracy: 0.8533 - val_loss: 0.3723 - val_accuracy: 0.8447\n",
            "Epoch 54/100\n",
            "469/469 [==============================] - 1s 2ms/step - loss: 0.3647 - accuracy: 0.8489 - val_loss: 0.3720 - val_accuracy: 0.8451\n",
            "Epoch 55/100\n",
            "469/469 [==============================] - 1s 2ms/step - loss: 0.3578 - accuracy: 0.8583 - val_loss: 0.3715 - val_accuracy: 0.8460\n",
            "Epoch 56/100\n",
            "469/469 [==============================] - 1s 2ms/step - loss: 0.3552 - accuracy: 0.8570 - val_loss: 0.3709 - val_accuracy: 0.8451\n",
            "Epoch 57/100\n",
            "469/469 [==============================] - 1s 2ms/step - loss: 0.3603 - accuracy: 0.8574 - val_loss: 0.3705 - val_accuracy: 0.8455\n",
            "Epoch 58/100\n",
            "469/469 [==============================] - 1s 2ms/step - loss: 0.3594 - accuracy: 0.8598 - val_loss: 0.3702 - val_accuracy: 0.8468\n",
            "Epoch 59/100\n",
            "469/469 [==============================] - 1s 2ms/step - loss: 0.3519 - accuracy: 0.8615 - val_loss: 0.3697 - val_accuracy: 0.8460\n",
            "Epoch 60/100\n",
            "469/469 [==============================] - 1s 2ms/step - loss: 0.3481 - accuracy: 0.8604 - val_loss: 0.3696 - val_accuracy: 0.8455\n",
            "Epoch 61/100\n",
            "469/469 [==============================] - 1s 2ms/step - loss: 0.3436 - accuracy: 0.8656 - val_loss: 0.3692 - val_accuracy: 0.8468\n",
            "Epoch 62/100\n",
            "469/469 [==============================] - 1s 2ms/step - loss: 0.3439 - accuracy: 0.8701 - val_loss: 0.3689 - val_accuracy: 0.8464\n",
            "Epoch 63/100\n",
            "469/469 [==============================] - 1s 2ms/step - loss: 0.3526 - accuracy: 0.8625 - val_loss: 0.3686 - val_accuracy: 0.8477\n",
            "Epoch 64/100\n",
            "469/469 [==============================] - 1s 2ms/step - loss: 0.3558 - accuracy: 0.8533 - val_loss: 0.3685 - val_accuracy: 0.8516\n",
            "Epoch 65/100\n",
            "469/469 [==============================] - 1s 2ms/step - loss: 0.3599 - accuracy: 0.8560 - val_loss: 0.3683 - val_accuracy: 0.8468\n",
            "Epoch 66/100\n",
            "469/469 [==============================] - 1s 2ms/step - loss: 0.3590 - accuracy: 0.8601 - val_loss: 0.3679 - val_accuracy: 0.8486\n",
            "Epoch 67/100\n",
            "469/469 [==============================] - 1s 2ms/step - loss: 0.3470 - accuracy: 0.8645 - val_loss: 0.3677 - val_accuracy: 0.8464\n",
            "Epoch 68/100\n",
            "469/469 [==============================] - 1s 2ms/step - loss: 0.3591 - accuracy: 0.8571 - val_loss: 0.3672 - val_accuracy: 0.8507\n",
            "Epoch 69/100\n",
            "469/469 [==============================] - 1s 2ms/step - loss: 0.3638 - accuracy: 0.8620 - val_loss: 0.3670 - val_accuracy: 0.8507\n",
            "Epoch 70/100\n",
            "469/469 [==============================] - 1s 2ms/step - loss: 0.3503 - accuracy: 0.8638 - val_loss: 0.3669 - val_accuracy: 0.8477\n",
            "Epoch 71/100\n",
            "469/469 [==============================] - 1s 2ms/step - loss: 0.3713 - accuracy: 0.8506 - val_loss: 0.3665 - val_accuracy: 0.8490\n",
            "Epoch 72/100\n",
            "469/469 [==============================] - 1s 2ms/step - loss: 0.3655 - accuracy: 0.8480 - val_loss: 0.3662 - val_accuracy: 0.8511\n",
            "Epoch 73/100\n",
            "469/469 [==============================] - 1s 2ms/step - loss: 0.3556 - accuracy: 0.8586 - val_loss: 0.3662 - val_accuracy: 0.8490\n",
            "Epoch 74/100\n",
            "469/469 [==============================] - 1s 2ms/step - loss: 0.3588 - accuracy: 0.8603 - val_loss: 0.3660 - val_accuracy: 0.8498\n",
            "Epoch 75/100\n",
            "469/469 [==============================] - 1s 2ms/step - loss: 0.3460 - accuracy: 0.8648 - val_loss: 0.3659 - val_accuracy: 0.8498\n",
            "Epoch 76/100\n",
            "469/469 [==============================] - 1s 2ms/step - loss: 0.3576 - accuracy: 0.8571 - val_loss: 0.3656 - val_accuracy: 0.8511\n",
            "Epoch 77/100\n",
            "469/469 [==============================] - 1s 2ms/step - loss: 0.3708 - accuracy: 0.8503 - val_loss: 0.3653 - val_accuracy: 0.8511\n",
            "Epoch 78/100\n",
            "469/469 [==============================] - 1s 2ms/step - loss: 0.3590 - accuracy: 0.8551 - val_loss: 0.3652 - val_accuracy: 0.8511\n",
            "Epoch 79/100\n",
            "469/469 [==============================] - 1s 2ms/step - loss: 0.3434 - accuracy: 0.8658 - val_loss: 0.3652 - val_accuracy: 0.8511\n",
            "Epoch 80/100\n",
            "469/469 [==============================] - 1s 2ms/step - loss: 0.3522 - accuracy: 0.8623 - val_loss: 0.3649 - val_accuracy: 0.8542\n",
            "Epoch 81/100\n",
            "469/469 [==============================] - 1s 2ms/step - loss: 0.3585 - accuracy: 0.8580 - val_loss: 0.3646 - val_accuracy: 0.8529\n",
            "Epoch 82/100\n",
            "469/469 [==============================] - 1s 2ms/step - loss: 0.3492 - accuracy: 0.8622 - val_loss: 0.3646 - val_accuracy: 0.8516\n",
            "Epoch 83/100\n",
            "469/469 [==============================] - 1s 2ms/step - loss: 0.3573 - accuracy: 0.8618 - val_loss: 0.3643 - val_accuracy: 0.8555\n",
            "Epoch 84/100\n",
            "469/469 [==============================] - 1s 2ms/step - loss: 0.3423 - accuracy: 0.8682 - val_loss: 0.3639 - val_accuracy: 0.8537\n",
            "Epoch 85/100\n",
            "469/469 [==============================] - 1s 2ms/step - loss: 0.3515 - accuracy: 0.8632 - val_loss: 0.3636 - val_accuracy: 0.8542\n",
            "Epoch 86/100\n",
            "469/469 [==============================] - 1s 2ms/step - loss: 0.3523 - accuracy: 0.8597 - val_loss: 0.3634 - val_accuracy: 0.8546\n",
            "Epoch 87/100\n",
            "469/469 [==============================] - 1s 2ms/step - loss: 0.3511 - accuracy: 0.8611 - val_loss: 0.3632 - val_accuracy: 0.8555\n",
            "Epoch 88/100\n",
            "469/469 [==============================] - 1s 2ms/step - loss: 0.3420 - accuracy: 0.8658 - val_loss: 0.3630 - val_accuracy: 0.8516\n",
            "Epoch 89/100\n",
            "469/469 [==============================] - 1s 2ms/step - loss: 0.3447 - accuracy: 0.8666 - val_loss: 0.3629 - val_accuracy: 0.8520\n",
            "Epoch 90/100\n",
            "469/469 [==============================] - 1s 2ms/step - loss: 0.3628 - accuracy: 0.8532 - val_loss: 0.3624 - val_accuracy: 0.8555\n",
            "Epoch 91/100\n",
            "469/469 [==============================] - 1s 2ms/step - loss: 0.3568 - accuracy: 0.8561 - val_loss: 0.3621 - val_accuracy: 0.8568\n",
            "Epoch 92/100\n",
            "469/469 [==============================] - 1s 2ms/step - loss: 0.3511 - accuracy: 0.8614 - val_loss: 0.3621 - val_accuracy: 0.8533\n",
            "Epoch 93/100\n",
            "469/469 [==============================] - 1s 2ms/step - loss: 0.3498 - accuracy: 0.8580 - val_loss: 0.3618 - val_accuracy: 0.8542\n",
            "Epoch 94/100\n",
            "469/469 [==============================] - 1s 2ms/step - loss: 0.3495 - accuracy: 0.8591 - val_loss: 0.3618 - val_accuracy: 0.8537\n",
            "Epoch 95/100\n",
            "469/469 [==============================] - 1s 2ms/step - loss: 0.3556 - accuracy: 0.8588 - val_loss: 0.3615 - val_accuracy: 0.8581\n",
            "Epoch 96/100\n",
            "469/469 [==============================] - 1s 2ms/step - loss: 0.3512 - accuracy: 0.8608 - val_loss: 0.3614 - val_accuracy: 0.8563\n",
            "Epoch 97/100\n",
            "469/469 [==============================] - 1s 2ms/step - loss: 0.3547 - accuracy: 0.8633 - val_loss: 0.3614 - val_accuracy: 0.8559\n",
            "Epoch 98/100\n",
            "469/469 [==============================] - 1s 2ms/step - loss: 0.3304 - accuracy: 0.8730 - val_loss: 0.3613 - val_accuracy: 0.8568\n",
            "Epoch 99/100\n",
            "469/469 [==============================] - 1s 2ms/step - loss: 0.3487 - accuracy: 0.8642 - val_loss: 0.3615 - val_accuracy: 0.8537\n",
            "Epoch 100/100\n",
            "469/469 [==============================] - 1s 2ms/step - loss: 0.3459 - accuracy: 0.8635 - val_loss: 0.3611 - val_accuracy: 0.8555\n"
          ],
          "name": "stdout"
        }
      ]
    },
    {
      "cell_type": "code",
      "metadata": {
        "colab": {
          "base_uri": "https://localhost:8080/"
        },
        "id": "eX-Jkdd5LUpN",
        "outputId": "535ab4da-396f-47cf-b036-394d0dc2674c"
      },
      "source": [
        "print(model_history.history.keys())"
      ],
      "execution_count": 28,
      "outputs": [
        {
          "output_type": "stream",
          "text": [
            "dict_keys(['loss', 'accuracy', 'val_loss', 'val_accuracy'])\n"
          ],
          "name": "stdout"
        }
      ]
    },
    {
      "cell_type": "code",
      "metadata": {
        "colab": {
          "base_uri": "https://localhost:8080/",
          "height": 295
        },
        "id": "VRrulX3v5_Pd",
        "outputId": "ed083a26-37c9-42e8-c65d-aa435520d2a4"
      },
      "source": [
        "# summarize history for accuracy\n",
        "plt.plot(model_history.history['accuracy'])\n",
        "plt.plot(model_history.history['val_accuracy'])\n",
        "plt.title('model accuracy')\n",
        "plt.ylabel('accuracy')\n",
        "plt.xlabel('epoch')\n",
        "plt.legend(['train', 'test'], loc='upper left')\n",
        "plt.show()"
      ],
      "execution_count": 29,
      "outputs": [
        {
          "output_type": "display_data",
          "data": {
            "image/png": "[encoded data removed]",
            "text/plain": [
              "<Figure size 432x288 with 1 Axes>"
            ]
          },
          "metadata": {
            "tags": [],
            "needs_background": "light"
          }
        }
      ]
    },
    {
      "cell_type": "code",
      "metadata": {
        "colab": {
          "base_uri": "https://localhost:8080/",
          "height": 295
        },
        "id": "Z6C7m9z-5_Y-",
        "outputId": "11f6e0cf-93c5-4a51-c064-6c22ead72a08"
      },
      "source": [
        "# summarize history for loss\n",
        "plt.plot(model_history.history['loss'])\n",
        "plt.plot(model_history.history['val_loss'])\n",
        "plt.title('model loss')\n",
        "plt.ylabel('loss')\n",
        "plt.xlabel('epoch')\n",
        "plt.legend(['train', 'test'], loc='upper left')\n",
        "plt.show()"
      ],
      "execution_count": 30,
      "outputs": [
        {
          "output_type": "display_data",
          "data": {
            "image/png": "[encoded data removed]",
            "text/plain": [
              "<Figure size 432x288 with 1 Axes>"
            ]
          },
          "metadata": {
            "tags": [],
            "needs_background": "light"
          }
        }
      ]
    },
    {
      "cell_type": "code",
      "metadata": {
        "id": "tO1g_JuZ5_kx"
      },
      "source": [
        ""
      ],
      "execution_count": 31,
      "outputs": []
    },
    {
      "cell_type": "code",
      "metadata": {
        "colab": {
          "base_uri": "https://localhost:8080/"
        },
        "id": "PmGGNmXu5_pW",
        "outputId": "9ba2620b-e158-446b-bf3f-e4c322dc6dfd"
      },
      "source": [
        "y_pred = classifier.predict(X_test)\n",
        "y_pred = (y_pred > 0.5)\n",
        "report(y_test, y_pred)"
      ],
      "execution_count": 36,
      "outputs": [
        {
          "output_type": "stream",
          "text": [
            "Confusion Matrix\n",
            "[[2303   86]\n",
            " [ 359  252]]\n",
            "+++++++++++++++++++++++++++++++++++++++++++++++++++++++++++++++++++++++++++\n",
            "Accuracy Score: 85.1667%\n",
            "Recall Score: 41.2439%\n",
            "Specificity Score: 96.4002%\n",
            "False Positive Rate: 3.5998%\n",
            "Precision Score: 74.5562%\n",
            "+++++++++++++++++++++++++++++++++++++++++++++++++++++++++++++++++++++++++++\n",
            "Classification Report\n",
            "              precision    recall  f1-score   support\n",
            "\n",
            "           0       0.87      0.96      0.91      2389\n",
            "           1       0.75      0.41      0.53       611\n",
            "\n",
            "    accuracy                           0.85      3000\n",
            "   macro avg       0.81      0.69      0.72      3000\n",
            "weighted avg       0.84      0.85      0.83      3000\n",
            "\n"
          ],
          "name": "stdout"
        }
      ]
    },
    {
      "cell_type": "code",
      "metadata": {
        "id": "fJAL6acOIdPi"
      },
      "source": [
        "from sklearn.metrics import roc_curve,auc"
      ],
      "execution_count": 40,
      "outputs": []
    },
    {
      "cell_type": "code",
      "metadata": {
        "colab": {
          "base_uri": "https://localhost:8080/",
          "height": 356
        },
        "id": "TL5B1s939jnR",
        "outputId": "f602388a-bc0a-44c0-f20a-f50475fc3ddf"
      },
      "source": [
        "train_fpr, train_tpr, thresholds = roc_curve(y_train, classifier.predict_proba(X_train))\n",
        "test_fpr, test_tpr, thresholds = roc_curve(y_test, classifier.predict_proba(X_test))\n",
        "plt.plot(train_fpr, train_tpr, label=\"train AUC =\"+str(auc(train_fpr, train_tpr)))\n",
        "plt.plot(test_fpr, test_tpr, label=\"test AUC =\"+str(auc(test_fpr, test_tpr)))\n",
        "plt.legend(loc = 'lower right')\n",
        "plt.plot([0, 1], [0, 1],'r--')\n",
        "plt.xlim([0, 1])\n",
        "plt.ylim([0, 1])\n",
        "plt.legend(loc=4)\n",
        "plt.ylabel('True Positive Rate')\n",
        "plt.xlabel('False Positive Rate')"
      ],
      "execution_count": 41,
      "outputs": [
        {
          "output_type": "stream",
          "text": [
            "/usr/local/lib/python3.7/dist-packages/tensorflow/python/keras/engine/sequential.py:425: UserWarning: `model.predict_proba()` is deprecated and will be removed after 2021-01-01. Please use `model.predict()` instead.\n",
            "  warnings.warn('`model.predict_proba()` is deprecated and '\n"
          ],
          "name": "stderr"
        },
        {
          "output_type": "execute_result",
          "data": {
            "text/plain": [
              "Text(0.5, 0, 'False Positive Rate')"
            ]
          },
          "metadata": {
            "tags": []
          },
          "execution_count": 41
        },
        {
          "output_type": "display_data",
          "data": {
            "image/png": "[encoded data removed]",
            "text/plain": [
              "<Figure size 432x288 with 1 Axes>"
            ]
          },
          "metadata": {
            "tags": [],
            "needs_background": "light"
          }
        }
      ]
    },
    {
      "cell_type": "markdown",
      "metadata": {
        "id": "CAis5FmHJSWZ"
      },
      "source": [
        "**Model 2**"
      ]
    },
    {
      "cell_type": "code",
      "metadata": {
        "colab": {
          "base_uri": "https://localhost:8080/"
        },
        "id": "ZzvEAxOyIr-8",
        "outputId": "bf9a7756-b6ca-4a66-dd0a-2793a12feaff"
      },
      "source": [
        "classifier2=Sequential()\n",
        "classifier2.add(Dense(units = 128, kernel_initializer='he_uniform',activation='relu',input_dim =X_train.shape[1]))\n",
        "classifier2.add(Dropout(0.25))\n",
        "classifier2.add(Dense(units=64,kernel_initializer='he_uniform',activation='relu'))\n",
        "classifier2.add(Dropout(0.2))\n",
        "classifier2.add(Dense(units=32,kernel_initializer='he_uniform',activation='relu'))\n",
        "classifier2.add(Dense(units=1,kernel_initializer='glorot_uniform',activation='sigmoid'))\n",
        "classifier2.summary()"
      ],
      "execution_count": 45,
      "outputs": [
        {
          "output_type": "stream",
          "text": [
            "Model: \"sequential_4\"\n",
            "_________________________________________________________________\n",
            "Layer (type)                 Output Shape              Param #   \n",
            "=================================================================\n",
            "dense_14 (Dense)             (None, 128)               1664      \n",
            "_________________________________________________________________\n",
            "dropout_3 (Dropout)          (None, 128)               0         \n",
            "_________________________________________________________________\n",
            "dense_15 (Dense)             (None, 64)                8256      \n",
            "_________________________________________________________________\n",
            "dropout_4 (Dropout)          (None, 64)                0         \n",
            "_________________________________________________________________\n",
            "dense_16 (Dense)             (None, 32)                2080      \n",
            "_________________________________________________________________\n",
            "dense_17 (Dense)             (None, 1)                 33        \n",
            "=================================================================\n",
            "Total params: 12,033\n",
            "Trainable params: 12,033\n",
            "Non-trainable params: 0\n",
            "_________________________________________________________________\n"
          ],
          "name": "stdout"
        }
      ]
    },
    {
      "cell_type": "code",
      "metadata": {
        "colab": {
          "base_uri": "https://localhost:8080/"
        },
        "id": "KVjXNmDBIsO0",
        "outputId": "12714eab-b188-45d3-ae89-2190ef56edd9"
      },
      "source": [
        "# Compiling the ANN\n",
        "classifier2.compile(optimizer = 'Adam', loss = 'binary_crossentropy', metrics = ['accuracy'])\n",
        "# Fitting the ANN to the Training set\n",
        "model_history2=classifier2.fit(X_train, y_train,validation_split=0.33, batch_size = 10,epochs=200)"
      ],
      "execution_count": 48,
      "outputs": [
        {
          "output_type": "stream",
          "text": [
            "Epoch 1/200\n",
            "469/469 [==============================] - 2s 2ms/step - loss: 0.5553 - accuracy: 0.7573 - val_loss: 0.4054 - val_accuracy: 0.8347\n",
            "Epoch 2/200\n",
            "469/469 [==============================] - 1s 2ms/step - loss: 0.4344 - accuracy: 0.8258 - val_loss: 0.4090 - val_accuracy: 0.8386\n",
            "Epoch 3/200\n",
            "469/469 [==============================] - 1s 2ms/step - loss: 0.4150 - accuracy: 0.8332 - val_loss: 0.3801 - val_accuracy: 0.8421\n",
            "Epoch 4/200\n",
            "469/469 [==============================] - 1s 2ms/step - loss: 0.3999 - accuracy: 0.8417 - val_loss: 0.3628 - val_accuracy: 0.8490\n",
            "Epoch 5/200\n",
            "469/469 [==============================] - 1s 2ms/step - loss: 0.3874 - accuracy: 0.8424 - val_loss: 0.3658 - val_accuracy: 0.8559\n",
            "Epoch 6/200\n",
            "469/469 [==============================] - 1s 2ms/step - loss: 0.3686 - accuracy: 0.8520 - val_loss: 0.3625 - val_accuracy: 0.8537\n",
            "Epoch 7/200\n",
            "469/469 [==============================] - 1s 2ms/step - loss: 0.3567 - accuracy: 0.8615 - val_loss: 0.3646 - val_accuracy: 0.8524\n",
            "Epoch 8/200\n",
            "469/469 [==============================] - 1s 2ms/step - loss: 0.3770 - accuracy: 0.8486 - val_loss: 0.3685 - val_accuracy: 0.8486\n",
            "Epoch 9/200\n",
            "469/469 [==============================] - 1s 2ms/step - loss: 0.3524 - accuracy: 0.8603 - val_loss: 0.3567 - val_accuracy: 0.8507\n",
            "Epoch 10/200\n",
            "469/469 [==============================] - 1s 2ms/step - loss: 0.3431 - accuracy: 0.8670 - val_loss: 0.3620 - val_accuracy: 0.8537\n",
            "Epoch 11/200\n",
            "469/469 [==============================] - 1s 2ms/step - loss: 0.3618 - accuracy: 0.8629 - val_loss: 0.3579 - val_accuracy: 0.8559\n",
            "Epoch 12/200\n",
            "469/469 [==============================] - 1s 2ms/step - loss: 0.3471 - accuracy: 0.8614 - val_loss: 0.3590 - val_accuracy: 0.8576\n",
            "Epoch 13/200\n",
            "469/469 [==============================] - 1s 2ms/step - loss: 0.3443 - accuracy: 0.8607 - val_loss: 0.3615 - val_accuracy: 0.8520\n",
            "Epoch 14/200\n",
            "469/469 [==============================] - 1s 2ms/step - loss: 0.3479 - accuracy: 0.8625 - val_loss: 0.3601 - val_accuracy: 0.8542\n",
            "Epoch 15/200\n",
            "469/469 [==============================] - 1s 2ms/step - loss: 0.3479 - accuracy: 0.8621 - val_loss: 0.3639 - val_accuracy: 0.8524\n",
            "Epoch 16/200\n",
            "469/469 [==============================] - 1s 2ms/step - loss: 0.3548 - accuracy: 0.8603 - val_loss: 0.3567 - val_accuracy: 0.8537\n",
            "Epoch 17/200\n",
            "469/469 [==============================] - 1s 2ms/step - loss: 0.3338 - accuracy: 0.8718 - val_loss: 0.3555 - val_accuracy: 0.8537\n",
            "Epoch 18/200\n",
            "469/469 [==============================] - 1s 2ms/step - loss: 0.3346 - accuracy: 0.8720 - val_loss: 0.3676 - val_accuracy: 0.8537\n",
            "Epoch 19/200\n",
            "469/469 [==============================] - 1s 2ms/step - loss: 0.3474 - accuracy: 0.8541 - val_loss: 0.3563 - val_accuracy: 0.8542\n",
            "Epoch 20/200\n",
            "469/469 [==============================] - 1s 2ms/step - loss: 0.3392 - accuracy: 0.8633 - val_loss: 0.3601 - val_accuracy: 0.8576\n",
            "Epoch 21/200\n",
            "469/469 [==============================] - 1s 2ms/step - loss: 0.3399 - accuracy: 0.8624 - val_loss: 0.3579 - val_accuracy: 0.8537\n",
            "Epoch 22/200\n",
            "469/469 [==============================] - 1s 2ms/step - loss: 0.3466 - accuracy: 0.8603 - val_loss: 0.3582 - val_accuracy: 0.8585\n",
            "Epoch 23/200\n",
            "469/469 [==============================] - 1s 2ms/step - loss: 0.3537 - accuracy: 0.8601 - val_loss: 0.3516 - val_accuracy: 0.8589\n",
            "Epoch 24/200\n",
            "469/469 [==============================] - 1s 2ms/step - loss: 0.3265 - accuracy: 0.8686 - val_loss: 0.3599 - val_accuracy: 0.8576\n",
            "Epoch 25/200\n",
            "469/469 [==============================] - 1s 2ms/step - loss: 0.3388 - accuracy: 0.8664 - val_loss: 0.3576 - val_accuracy: 0.8559\n",
            "Epoch 26/200\n",
            "469/469 [==============================] - 1s 2ms/step - loss: 0.3306 - accuracy: 0.8703 - val_loss: 0.3603 - val_accuracy: 0.8537\n",
            "Epoch 27/200\n",
            "469/469 [==============================] - 1s 2ms/step - loss: 0.3315 - accuracy: 0.8664 - val_loss: 0.3593 - val_accuracy: 0.8585\n",
            "Epoch 28/200\n",
            "469/469 [==============================] - 1s 2ms/step - loss: 0.3398 - accuracy: 0.8646 - val_loss: 0.3568 - val_accuracy: 0.8576\n",
            "Epoch 29/200\n",
            "469/469 [==============================] - 1s 2ms/step - loss: 0.3362 - accuracy: 0.8707 - val_loss: 0.3570 - val_accuracy: 0.8589\n",
            "Epoch 30/200\n",
            "469/469 [==============================] - 1s 2ms/step - loss: 0.3370 - accuracy: 0.8682 - val_loss: 0.3574 - val_accuracy: 0.8589\n",
            "Epoch 31/200\n",
            "469/469 [==============================] - 1s 2ms/step - loss: 0.3157 - accuracy: 0.8769 - val_loss: 0.3657 - val_accuracy: 0.8581\n",
            "Epoch 32/200\n",
            "469/469 [==============================] - 1s 2ms/step - loss: 0.3475 - accuracy: 0.8615 - val_loss: 0.3736 - val_accuracy: 0.8550\n",
            "Epoch 33/200\n",
            "469/469 [==============================] - 1s 2ms/step - loss: 0.3252 - accuracy: 0.8677 - val_loss: 0.3623 - val_accuracy: 0.8568\n",
            "Epoch 34/200\n",
            "469/469 [==============================] - 1s 2ms/step - loss: 0.3426 - accuracy: 0.8603 - val_loss: 0.3602 - val_accuracy: 0.8581\n",
            "Epoch 35/200\n",
            "469/469 [==============================] - 1s 2ms/step - loss: 0.3300 - accuracy: 0.8655 - val_loss: 0.3618 - val_accuracy: 0.8563\n",
            "Epoch 36/200\n",
            "469/469 [==============================] - 1s 2ms/step - loss: 0.3106 - accuracy: 0.8787 - val_loss: 0.3604 - val_accuracy: 0.8546\n",
            "Epoch 37/200\n",
            "469/469 [==============================] - 1s 2ms/step - loss: 0.3155 - accuracy: 0.8752 - val_loss: 0.3581 - val_accuracy: 0.8559\n",
            "Epoch 38/200\n",
            "469/469 [==============================] - 1s 2ms/step - loss: 0.3240 - accuracy: 0.8690 - val_loss: 0.3659 - val_accuracy: 0.8576\n",
            "Epoch 39/200\n",
            "469/469 [==============================] - 1s 2ms/step - loss: 0.3127 - accuracy: 0.8803 - val_loss: 0.3618 - val_accuracy: 0.8576\n",
            "Epoch 40/200\n",
            "469/469 [==============================] - 1s 2ms/step - loss: 0.3154 - accuracy: 0.8711 - val_loss: 0.3702 - val_accuracy: 0.8589\n",
            "Epoch 41/200\n",
            "469/469 [==============================] - 1s 2ms/step - loss: 0.3175 - accuracy: 0.8741 - val_loss: 0.3621 - val_accuracy: 0.8546\n",
            "Epoch 42/200\n",
            "469/469 [==============================] - 1s 2ms/step - loss: 0.3211 - accuracy: 0.8738 - val_loss: 0.3603 - val_accuracy: 0.8572\n",
            "Epoch 43/200\n",
            "469/469 [==============================] - 1s 2ms/step - loss: 0.3186 - accuracy: 0.8686 - val_loss: 0.3598 - val_accuracy: 0.8568\n",
            "Epoch 44/200\n",
            "469/469 [==============================] - 1s 2ms/step - loss: 0.3158 - accuracy: 0.8712 - val_loss: 0.3657 - val_accuracy: 0.8585\n",
            "Epoch 45/200\n",
            "469/469 [==============================] - 1s 2ms/step - loss: 0.3182 - accuracy: 0.8683 - val_loss: 0.3670 - val_accuracy: 0.8568\n",
            "Epoch 46/200\n",
            "469/469 [==============================] - 1s 2ms/step - loss: 0.3124 - accuracy: 0.8797 - val_loss: 0.3674 - val_accuracy: 0.8563\n",
            "Epoch 47/200\n",
            "469/469 [==============================] - 1s 2ms/step - loss: 0.3084 - accuracy: 0.8798 - val_loss: 0.3660 - val_accuracy: 0.8533\n",
            "Epoch 48/200\n",
            "469/469 [==============================] - 1s 2ms/step - loss: 0.3166 - accuracy: 0.8691 - val_loss: 0.3701 - val_accuracy: 0.8572\n",
            "Epoch 49/200\n",
            "469/469 [==============================] - 1s 2ms/step - loss: 0.3152 - accuracy: 0.8743 - val_loss: 0.3722 - val_accuracy: 0.8563\n",
            "Epoch 50/200\n",
            "469/469 [==============================] - 1s 2ms/step - loss: 0.3113 - accuracy: 0.8695 - val_loss: 0.3705 - val_accuracy: 0.8568\n",
            "Epoch 51/200\n",
            "469/469 [==============================] - 1s 2ms/step - loss: 0.3108 - accuracy: 0.8740 - val_loss: 0.3733 - val_accuracy: 0.8533\n",
            "Epoch 52/200\n",
            "469/469 [==============================] - 1s 2ms/step - loss: 0.3164 - accuracy: 0.8708 - val_loss: 0.3693 - val_accuracy: 0.8533\n",
            "Epoch 53/200\n",
            "469/469 [==============================] - 1s 2ms/step - loss: 0.2895 - accuracy: 0.8873 - val_loss: 0.3726 - val_accuracy: 0.8568\n",
            "Epoch 54/200\n",
            "469/469 [==============================] - 1s 2ms/step - loss: 0.3098 - accuracy: 0.8734 - val_loss: 0.3686 - val_accuracy: 0.8524\n",
            "Epoch 55/200\n",
            "469/469 [==============================] - 1s 2ms/step - loss: 0.3117 - accuracy: 0.8787 - val_loss: 0.3656 - val_accuracy: 0.8542\n",
            "Epoch 56/200\n",
            "469/469 [==============================] - 1s 2ms/step - loss: 0.3124 - accuracy: 0.8746 - val_loss: 0.3681 - val_accuracy: 0.8602\n",
            "Epoch 57/200\n",
            "469/469 [==============================] - 1s 2ms/step - loss: 0.3058 - accuracy: 0.8792 - val_loss: 0.3788 - val_accuracy: 0.8598\n",
            "Epoch 58/200\n",
            "469/469 [==============================] - 1s 2ms/step - loss: 0.3016 - accuracy: 0.8766 - val_loss: 0.3677 - val_accuracy: 0.8546\n",
            "Epoch 59/200\n",
            "469/469 [==============================] - 1s 2ms/step - loss: 0.2920 - accuracy: 0.8838 - val_loss: 0.3731 - val_accuracy: 0.8563\n",
            "Epoch 60/200\n",
            "469/469 [==============================] - 1s 2ms/step - loss: 0.3016 - accuracy: 0.8842 - val_loss: 0.3755 - val_accuracy: 0.8555\n",
            "Epoch 61/200\n",
            "469/469 [==============================] - 1s 2ms/step - loss: 0.3095 - accuracy: 0.8735 - val_loss: 0.3717 - val_accuracy: 0.8524\n",
            "Epoch 62/200\n",
            "469/469 [==============================] - 1s 2ms/step - loss: 0.2869 - accuracy: 0.8852 - val_loss: 0.3738 - val_accuracy: 0.8542\n",
            "Epoch 63/200\n",
            "469/469 [==============================] - 1s 2ms/step - loss: 0.3028 - accuracy: 0.8748 - val_loss: 0.3742 - val_accuracy: 0.8563\n",
            "Epoch 64/200\n",
            "469/469 [==============================] - 1s 2ms/step - loss: 0.2924 - accuracy: 0.8865 - val_loss: 0.3781 - val_accuracy: 0.8568\n",
            "Epoch 65/200\n",
            "469/469 [==============================] - 1s 2ms/step - loss: 0.2929 - accuracy: 0.8829 - val_loss: 0.3770 - val_accuracy: 0.8546\n",
            "Epoch 66/200\n",
            "469/469 [==============================] - 1s 2ms/step - loss: 0.2995 - accuracy: 0.8794 - val_loss: 0.3807 - val_accuracy: 0.8559\n",
            "Epoch 67/200\n",
            "469/469 [==============================] - 1s 2ms/step - loss: 0.3010 - accuracy: 0.8817 - val_loss: 0.3761 - val_accuracy: 0.8537\n",
            "Epoch 68/200\n",
            "469/469 [==============================] - 1s 2ms/step - loss: 0.2865 - accuracy: 0.8867 - val_loss: 0.3833 - val_accuracy: 0.8455\n",
            "Epoch 69/200\n",
            "469/469 [==============================] - 1s 2ms/step - loss: 0.2975 - accuracy: 0.8842 - val_loss: 0.3814 - val_accuracy: 0.8507\n",
            "Epoch 70/200\n",
            "469/469 [==============================] - 1s 2ms/step - loss: 0.3093 - accuracy: 0.8701 - val_loss: 0.3845 - val_accuracy: 0.8460\n",
            "Epoch 71/200\n",
            "469/469 [==============================] - 1s 2ms/step - loss: 0.3094 - accuracy: 0.8722 - val_loss: 0.3868 - val_accuracy: 0.8542\n",
            "Epoch 72/200\n",
            "469/469 [==============================] - 1s 2ms/step - loss: 0.3003 - accuracy: 0.8796 - val_loss: 0.3842 - val_accuracy: 0.8511\n",
            "Epoch 73/200\n",
            "469/469 [==============================] - 1s 2ms/step - loss: 0.2939 - accuracy: 0.8854 - val_loss: 0.3802 - val_accuracy: 0.8516\n",
            "Epoch 74/200\n",
            "469/469 [==============================] - 1s 2ms/step - loss: 0.2949 - accuracy: 0.8815 - val_loss: 0.3825 - val_accuracy: 0.8494\n",
            "Epoch 75/200\n",
            "469/469 [==============================] - 1s 2ms/step - loss: 0.2699 - accuracy: 0.8899 - val_loss: 0.3819 - val_accuracy: 0.8503\n",
            "Epoch 76/200\n",
            "469/469 [==============================] - 1s 2ms/step - loss: 0.3009 - accuracy: 0.8804 - val_loss: 0.3848 - val_accuracy: 0.8520\n",
            "Epoch 77/200\n",
            "469/469 [==============================] - 1s 2ms/step - loss: 0.3005 - accuracy: 0.8808 - val_loss: 0.3882 - val_accuracy: 0.8494\n",
            "Epoch 78/200\n",
            "469/469 [==============================] - 1s 2ms/step - loss: 0.2745 - accuracy: 0.8887 - val_loss: 0.3834 - val_accuracy: 0.8511\n",
            "Epoch 79/200\n",
            "469/469 [==============================] - 1s 2ms/step - loss: 0.2910 - accuracy: 0.8886 - val_loss: 0.3835 - val_accuracy: 0.8507\n",
            "Epoch 80/200\n",
            "469/469 [==============================] - 1s 2ms/step - loss: 0.2644 - accuracy: 0.8956 - val_loss: 0.3894 - val_accuracy: 0.8507\n",
            "Epoch 81/200\n",
            "469/469 [==============================] - 1s 2ms/step - loss: 0.3053 - accuracy: 0.8784 - val_loss: 0.3855 - val_accuracy: 0.8516\n",
            "Epoch 82/200\n",
            "469/469 [==============================] - 1s 2ms/step - loss: 0.2882 - accuracy: 0.8846 - val_loss: 0.3853 - val_accuracy: 0.8516\n",
            "Epoch 83/200\n",
            "469/469 [==============================] - 1s 2ms/step - loss: 0.3026 - accuracy: 0.8802 - val_loss: 0.3890 - val_accuracy: 0.8511\n",
            "Epoch 84/200\n",
            "469/469 [==============================] - 1s 2ms/step - loss: 0.2732 - accuracy: 0.8929 - val_loss: 0.3925 - val_accuracy: 0.8520\n",
            "Epoch 85/200\n",
            "469/469 [==============================] - 1s 2ms/step - loss: 0.2902 - accuracy: 0.8839 - val_loss: 0.4001 - val_accuracy: 0.8524\n",
            "Epoch 86/200\n",
            "469/469 [==============================] - 1s 2ms/step - loss: 0.2693 - accuracy: 0.8938 - val_loss: 0.3978 - val_accuracy: 0.8533\n",
            "Epoch 87/200\n",
            "469/469 [==============================] - 1s 2ms/step - loss: 0.2862 - accuracy: 0.8801 - val_loss: 0.3954 - val_accuracy: 0.8516\n",
            "Epoch 88/200\n",
            "469/469 [==============================] - 1s 2ms/step - loss: 0.2787 - accuracy: 0.8826 - val_loss: 0.4035 - val_accuracy: 0.8546\n",
            "Epoch 89/200\n",
            "469/469 [==============================] - 1s 2ms/step - loss: 0.2902 - accuracy: 0.8805 - val_loss: 0.3943 - val_accuracy: 0.8524\n",
            "Epoch 90/200\n",
            "469/469 [==============================] - 1s 2ms/step - loss: 0.2776 - accuracy: 0.8912 - val_loss: 0.3979 - val_accuracy: 0.8529\n",
            "Epoch 91/200\n",
            "469/469 [==============================] - 1s 2ms/step - loss: 0.2742 - accuracy: 0.8919 - val_loss: 0.3924 - val_accuracy: 0.8503\n",
            "Epoch 92/200\n",
            "469/469 [==============================] - 1s 2ms/step - loss: 0.2903 - accuracy: 0.8825 - val_loss: 0.3995 - val_accuracy: 0.8529\n",
            "Epoch 93/200\n",
            "469/469 [==============================] - 1s 2ms/step - loss: 0.2787 - accuracy: 0.8871 - val_loss: 0.3999 - val_accuracy: 0.8516\n",
            "Epoch 94/200\n",
            "469/469 [==============================] - 1s 2ms/step - loss: 0.2775 - accuracy: 0.8895 - val_loss: 0.4029 - val_accuracy: 0.8473\n",
            "Epoch 95/200\n",
            "469/469 [==============================] - 1s 2ms/step - loss: 0.2721 - accuracy: 0.8907 - val_loss: 0.3897 - val_accuracy: 0.8507\n",
            "Epoch 96/200\n",
            "469/469 [==============================] - 1s 2ms/step - loss: 0.2872 - accuracy: 0.8820 - val_loss: 0.3933 - val_accuracy: 0.8507\n",
            "Epoch 97/200\n",
            "469/469 [==============================] - 1s 2ms/step - loss: 0.2840 - accuracy: 0.8828 - val_loss: 0.3995 - val_accuracy: 0.8494\n",
            "Epoch 98/200\n",
            "469/469 [==============================] - 1s 2ms/step - loss: 0.2756 - accuracy: 0.8889 - val_loss: 0.4047 - val_accuracy: 0.8494\n",
            "Epoch 99/200\n",
            "469/469 [==============================] - 1s 2ms/step - loss: 0.2653 - accuracy: 0.8863 - val_loss: 0.3988 - val_accuracy: 0.8542\n",
            "Epoch 100/200\n",
            "469/469 [==============================] - 1s 2ms/step - loss: 0.2778 - accuracy: 0.8884 - val_loss: 0.4013 - val_accuracy: 0.8490\n",
            "Epoch 101/200\n",
            "469/469 [==============================] - 1s 2ms/step - loss: 0.2792 - accuracy: 0.8834 - val_loss: 0.4070 - val_accuracy: 0.8494\n",
            "Epoch 102/200\n",
            "469/469 [==============================] - 1s 2ms/step - loss: 0.2922 - accuracy: 0.8842 - val_loss: 0.4020 - val_accuracy: 0.8516\n",
            "Epoch 103/200\n",
            "469/469 [==============================] - 1s 2ms/step - loss: 0.2584 - accuracy: 0.8961 - val_loss: 0.3942 - val_accuracy: 0.8507\n",
            "Epoch 104/200\n",
            "469/469 [==============================] - 1s 2ms/step - loss: 0.2845 - accuracy: 0.8795 - val_loss: 0.4033 - val_accuracy: 0.8498\n",
            "Epoch 105/200\n",
            "469/469 [==============================] - 1s 2ms/step - loss: 0.2755 - accuracy: 0.8864 - val_loss: 0.4065 - val_accuracy: 0.8490\n",
            "Epoch 106/200\n",
            "469/469 [==============================] - 1s 2ms/step - loss: 0.2733 - accuracy: 0.8861 - val_loss: 0.4165 - val_accuracy: 0.8473\n",
            "Epoch 107/200\n",
            "469/469 [==============================] - 1s 2ms/step - loss: 0.2855 - accuracy: 0.8839 - val_loss: 0.4054 - val_accuracy: 0.8460\n",
            "Epoch 108/200\n",
            "469/469 [==============================] - 1s 2ms/step - loss: 0.2792 - accuracy: 0.8820 - val_loss: 0.4152 - val_accuracy: 0.8503\n",
            "Epoch 109/200\n",
            "469/469 [==============================] - 1s 2ms/step - loss: 0.2805 - accuracy: 0.8826 - val_loss: 0.4039 - val_accuracy: 0.8507\n",
            "Epoch 110/200\n",
            "469/469 [==============================] - 1s 2ms/step - loss: 0.2713 - accuracy: 0.8904 - val_loss: 0.4073 - val_accuracy: 0.8511\n",
            "Epoch 111/200\n",
            "469/469 [==============================] - 1s 2ms/step - loss: 0.2671 - accuracy: 0.8926 - val_loss: 0.4108 - val_accuracy: 0.8507\n",
            "Epoch 112/200\n",
            "469/469 [==============================] - 1s 2ms/step - loss: 0.2757 - accuracy: 0.8881 - val_loss: 0.4093 - val_accuracy: 0.8503\n",
            "Epoch 113/200\n",
            "469/469 [==============================] - 1s 2ms/step - loss: 0.2724 - accuracy: 0.8904 - val_loss: 0.4113 - val_accuracy: 0.8486\n",
            "Epoch 114/200\n",
            "469/469 [==============================] - 1s 2ms/step - loss: 0.2630 - accuracy: 0.8969 - val_loss: 0.4126 - val_accuracy: 0.8447\n",
            "Epoch 115/200\n",
            "469/469 [==============================] - 1s 2ms/step - loss: 0.2769 - accuracy: 0.8911 - val_loss: 0.4145 - val_accuracy: 0.8481\n",
            "Epoch 116/200\n",
            "469/469 [==============================] - 1s 2ms/step - loss: 0.2768 - accuracy: 0.8945 - val_loss: 0.4138 - val_accuracy: 0.8503\n",
            "Epoch 117/200\n",
            "469/469 [==============================] - 1s 2ms/step - loss: 0.2781 - accuracy: 0.8851 - val_loss: 0.4193 - val_accuracy: 0.8494\n",
            "Epoch 118/200\n",
            "469/469 [==============================] - 1s 2ms/step - loss: 0.2666 - accuracy: 0.8929 - val_loss: 0.4207 - val_accuracy: 0.8516\n",
            "Epoch 119/200\n",
            "469/469 [==============================] - 1s 2ms/step - loss: 0.2693 - accuracy: 0.8941 - val_loss: 0.4244 - val_accuracy: 0.8494\n",
            "Epoch 120/200\n",
            "469/469 [==============================] - 1s 2ms/step - loss: 0.2573 - accuracy: 0.8947 - val_loss: 0.4139 - val_accuracy: 0.8490\n",
            "Epoch 121/200\n",
            "469/469 [==============================] - 1s 2ms/step - loss: 0.2812 - accuracy: 0.8847 - val_loss: 0.4096 - val_accuracy: 0.8503\n",
            "Epoch 122/200\n",
            "469/469 [==============================] - 1s 2ms/step - loss: 0.2791 - accuracy: 0.8848 - val_loss: 0.4143 - val_accuracy: 0.8507\n",
            "Epoch 123/200\n",
            "469/469 [==============================] - 1s 2ms/step - loss: 0.2614 - accuracy: 0.8945 - val_loss: 0.4111 - val_accuracy: 0.8490\n",
            "Epoch 124/200\n",
            "469/469 [==============================] - 1s 2ms/step - loss: 0.2685 - accuracy: 0.8881 - val_loss: 0.4086 - val_accuracy: 0.8507\n",
            "Epoch 125/200\n",
            "469/469 [==============================] - 1s 2ms/step - loss: 0.2540 - accuracy: 0.8919 - val_loss: 0.4247 - val_accuracy: 0.8477\n",
            "Epoch 126/200\n",
            "469/469 [==============================] - 1s 2ms/step - loss: 0.2706 - accuracy: 0.8877 - val_loss: 0.4155 - val_accuracy: 0.8486\n",
            "Epoch 127/200\n",
            "469/469 [==============================] - 1s 2ms/step - loss: 0.2424 - accuracy: 0.9038 - val_loss: 0.4199 - val_accuracy: 0.8460\n",
            "Epoch 128/200\n",
            "469/469 [==============================] - 1s 2ms/step - loss: 0.2832 - accuracy: 0.8823 - val_loss: 0.4162 - val_accuracy: 0.8473\n",
            "Epoch 129/200\n",
            "469/469 [==============================] - 1s 2ms/step - loss: 0.2436 - accuracy: 0.8980 - val_loss: 0.4188 - val_accuracy: 0.8494\n",
            "Epoch 130/200\n",
            "469/469 [==============================] - 1s 2ms/step - loss: 0.2829 - accuracy: 0.8858 - val_loss: 0.4171 - val_accuracy: 0.8464\n",
            "Epoch 131/200\n",
            "469/469 [==============================] - 1s 2ms/step - loss: 0.2740 - accuracy: 0.8845 - val_loss: 0.4192 - val_accuracy: 0.8460\n",
            "Epoch 132/200\n",
            "469/469 [==============================] - 1s 2ms/step - loss: 0.2757 - accuracy: 0.8873 - val_loss: 0.4203 - val_accuracy: 0.8425\n",
            "Epoch 133/200\n",
            "469/469 [==============================] - 1s 2ms/step - loss: 0.2521 - accuracy: 0.9018 - val_loss: 0.4228 - val_accuracy: 0.8451\n",
            "Epoch 134/200\n",
            "469/469 [==============================] - 1s 2ms/step - loss: 0.2769 - accuracy: 0.8846 - val_loss: 0.4195 - val_accuracy: 0.8425\n",
            "Epoch 135/200\n",
            "469/469 [==============================] - 1s 2ms/step - loss: 0.2668 - accuracy: 0.8904 - val_loss: 0.4272 - val_accuracy: 0.8451\n",
            "Epoch 136/200\n",
            "469/469 [==============================] - 1s 2ms/step - loss: 0.2717 - accuracy: 0.8895 - val_loss: 0.4206 - val_accuracy: 0.8421\n",
            "Epoch 137/200\n",
            "469/469 [==============================] - 1s 2ms/step - loss: 0.2576 - accuracy: 0.8931 - val_loss: 0.4315 - val_accuracy: 0.8416\n",
            "Epoch 138/200\n",
            "469/469 [==============================] - 1s 2ms/step - loss: 0.2743 - accuracy: 0.8872 - val_loss: 0.4230 - val_accuracy: 0.8494\n",
            "Epoch 139/200\n",
            "469/469 [==============================] - 1s 2ms/step - loss: 0.2790 - accuracy: 0.8827 - val_loss: 0.4281 - val_accuracy: 0.8421\n",
            "Epoch 140/200\n",
            "469/469 [==============================] - 1s 2ms/step - loss: 0.2764 - accuracy: 0.8843 - val_loss: 0.4201 - val_accuracy: 0.8455\n",
            "Epoch 141/200\n",
            "469/469 [==============================] - 1s 2ms/step - loss: 0.2582 - accuracy: 0.8919 - val_loss: 0.4220 - val_accuracy: 0.8464\n",
            "Epoch 142/200\n",
            "469/469 [==============================] - 1s 2ms/step - loss: 0.2625 - accuracy: 0.8909 - val_loss: 0.4197 - val_accuracy: 0.8464\n",
            "Epoch 143/200\n",
            "469/469 [==============================] - 1s 2ms/step - loss: 0.2542 - accuracy: 0.8975 - val_loss: 0.4300 - val_accuracy: 0.8481\n",
            "Epoch 144/200\n",
            "469/469 [==============================] - 1s 2ms/step - loss: 0.2520 - accuracy: 0.8972 - val_loss: 0.4272 - val_accuracy: 0.8473\n",
            "Epoch 145/200\n",
            "469/469 [==============================] - 1s 2ms/step - loss: 0.2676 - accuracy: 0.8926 - val_loss: 0.4361 - val_accuracy: 0.8421\n",
            "Epoch 146/200\n",
            "469/469 [==============================] - 1s 2ms/step - loss: 0.2634 - accuracy: 0.8931 - val_loss: 0.4268 - val_accuracy: 0.8464\n",
            "Epoch 147/200\n",
            "469/469 [==============================] - 1s 2ms/step - loss: 0.2616 - accuracy: 0.8911 - val_loss: 0.4338 - val_accuracy: 0.8434\n",
            "Epoch 148/200\n",
            "469/469 [==============================] - 1s 2ms/step - loss: 0.2553 - accuracy: 0.8964 - val_loss: 0.4297 - val_accuracy: 0.8425\n",
            "Epoch 149/200\n",
            "469/469 [==============================] - 1s 2ms/step - loss: 0.2594 - accuracy: 0.8976 - val_loss: 0.4446 - val_accuracy: 0.8434\n",
            "Epoch 150/200\n",
            "469/469 [==============================] - 1s 2ms/step - loss: 0.2509 - accuracy: 0.8917 - val_loss: 0.4339 - val_accuracy: 0.8408\n",
            "Epoch 151/200\n",
            "469/469 [==============================] - 1s 2ms/step - loss: 0.2603 - accuracy: 0.8954 - val_loss: 0.4508 - val_accuracy: 0.8369\n",
            "Epoch 152/200\n",
            "469/469 [==============================] - 1s 2ms/step - loss: 0.2656 - accuracy: 0.8900 - val_loss: 0.4386 - val_accuracy: 0.8377\n",
            "Epoch 153/200\n",
            "469/469 [==============================] - 1s 2ms/step - loss: 0.2640 - accuracy: 0.8893 - val_loss: 0.4344 - val_accuracy: 0.8412\n",
            "Epoch 154/200\n",
            "469/469 [==============================] - 1s 2ms/step - loss: 0.2616 - accuracy: 0.8927 - val_loss: 0.4272 - val_accuracy: 0.8399\n",
            "Epoch 155/200\n",
            "469/469 [==============================] - 1s 2ms/step - loss: 0.2471 - accuracy: 0.8961 - val_loss: 0.4295 - val_accuracy: 0.8429\n",
            "Epoch 156/200\n",
            "469/469 [==============================] - 1s 2ms/step - loss: 0.2512 - accuracy: 0.8954 - val_loss: 0.4343 - val_accuracy: 0.8425\n",
            "Epoch 157/200\n",
            "469/469 [==============================] - 1s 2ms/step - loss: 0.2579 - accuracy: 0.8895 - val_loss: 0.4350 - val_accuracy: 0.8473\n",
            "Epoch 158/200\n",
            "469/469 [==============================] - 1s 2ms/step - loss: 0.2650 - accuracy: 0.8973 - val_loss: 0.4415 - val_accuracy: 0.8434\n",
            "Epoch 159/200\n",
            "469/469 [==============================] - 1s 2ms/step - loss: 0.2570 - accuracy: 0.9001 - val_loss: 0.4312 - val_accuracy: 0.8395\n",
            "Epoch 160/200\n",
            "469/469 [==============================] - 1s 2ms/step - loss: 0.2693 - accuracy: 0.8862 - val_loss: 0.4463 - val_accuracy: 0.8416\n",
            "Epoch 161/200\n",
            "469/469 [==============================] - 1s 2ms/step - loss: 0.2584 - accuracy: 0.8922 - val_loss: 0.4386 - val_accuracy: 0.8425\n",
            "Epoch 162/200\n",
            "469/469 [==============================] - 1s 2ms/step - loss: 0.2533 - accuracy: 0.8883 - val_loss: 0.4459 - val_accuracy: 0.8403\n",
            "Epoch 163/200\n",
            "469/469 [==============================] - 1s 2ms/step - loss: 0.2482 - accuracy: 0.9004 - val_loss: 0.4395 - val_accuracy: 0.8403\n",
            "Epoch 164/200\n",
            "469/469 [==============================] - 1s 2ms/step - loss: 0.2597 - accuracy: 0.8936 - val_loss: 0.4434 - val_accuracy: 0.8421\n",
            "Epoch 165/200\n",
            "469/469 [==============================] - 1s 2ms/step - loss: 0.2490 - accuracy: 0.9014 - val_loss: 0.4347 - val_accuracy: 0.8460\n",
            "Epoch 166/200\n",
            "469/469 [==============================] - 1s 2ms/step - loss: 0.2508 - accuracy: 0.8966 - val_loss: 0.4393 - val_accuracy: 0.8434\n",
            "Epoch 167/200\n",
            "469/469 [==============================] - 1s 2ms/step - loss: 0.2565 - accuracy: 0.8976 - val_loss: 0.4567 - val_accuracy: 0.8390\n",
            "Epoch 168/200\n",
            "469/469 [==============================] - 1s 2ms/step - loss: 0.2476 - accuracy: 0.8991 - val_loss: 0.4367 - val_accuracy: 0.8386\n",
            "Epoch 169/200\n",
            "469/469 [==============================] - 1s 2ms/step - loss: 0.2466 - accuracy: 0.9049 - val_loss: 0.4414 - val_accuracy: 0.8425\n",
            "Epoch 170/200\n",
            "469/469 [==============================] - 1s 2ms/step - loss: 0.2502 - accuracy: 0.8986 - val_loss: 0.4417 - val_accuracy: 0.8369\n",
            "Epoch 171/200\n",
            "469/469 [==============================] - 1s 2ms/step - loss: 0.2530 - accuracy: 0.8949 - val_loss: 0.4512 - val_accuracy: 0.8447\n",
            "Epoch 172/200\n",
            "469/469 [==============================] - 1s 2ms/step - loss: 0.2612 - accuracy: 0.8900 - val_loss: 0.4440 - val_accuracy: 0.8395\n",
            "Epoch 173/200\n",
            "469/469 [==============================] - 1s 2ms/step - loss: 0.2475 - accuracy: 0.8990 - val_loss: 0.4445 - val_accuracy: 0.8373\n",
            "Epoch 174/200\n",
            "469/469 [==============================] - 1s 2ms/step - loss: 0.2648 - accuracy: 0.8929 - val_loss: 0.4523 - val_accuracy: 0.8325\n",
            "Epoch 175/200\n",
            "469/469 [==============================] - 1s 2ms/step - loss: 0.2621 - accuracy: 0.8924 - val_loss: 0.4437 - val_accuracy: 0.8386\n",
            "Epoch 176/200\n",
            "469/469 [==============================] - 1s 2ms/step - loss: 0.2485 - accuracy: 0.9011 - val_loss: 0.4564 - val_accuracy: 0.8399\n",
            "Epoch 177/200\n",
            "469/469 [==============================] - 1s 2ms/step - loss: 0.2510 - accuracy: 0.8944 - val_loss: 0.4438 - val_accuracy: 0.8369\n",
            "Epoch 178/200\n",
            "469/469 [==============================] - 1s 2ms/step - loss: 0.2321 - accuracy: 0.9037 - val_loss: 0.4444 - val_accuracy: 0.8416\n",
            "Epoch 179/200\n",
            "469/469 [==============================] - 1s 2ms/step - loss: 0.2551 - accuracy: 0.8942 - val_loss: 0.4564 - val_accuracy: 0.8438\n",
            "Epoch 180/200\n",
            "469/469 [==============================] - 1s 2ms/step - loss: 0.2487 - accuracy: 0.9012 - val_loss: 0.4514 - val_accuracy: 0.8434\n",
            "Epoch 181/200\n",
            "469/469 [==============================] - 1s 2ms/step - loss: 0.2531 - accuracy: 0.8961 - val_loss: 0.4455 - val_accuracy: 0.8386\n",
            "Epoch 182/200\n",
            "469/469 [==============================] - 1s 2ms/step - loss: 0.2472 - accuracy: 0.8964 - val_loss: 0.4481 - val_accuracy: 0.8395\n",
            "Epoch 183/200\n",
            "469/469 [==============================] - 1s 2ms/step - loss: 0.2417 - accuracy: 0.8992 - val_loss: 0.4532 - val_accuracy: 0.8434\n",
            "Epoch 184/200\n",
            "469/469 [==============================] - 1s 2ms/step - loss: 0.2575 - accuracy: 0.8936 - val_loss: 0.4493 - val_accuracy: 0.8390\n",
            "Epoch 185/200\n",
            "469/469 [==============================] - 1s 2ms/step - loss: 0.2477 - accuracy: 0.8946 - val_loss: 0.4604 - val_accuracy: 0.8395\n",
            "Epoch 186/200\n",
            "469/469 [==============================] - 1s 2ms/step - loss: 0.2277 - accuracy: 0.9101 - val_loss: 0.4476 - val_accuracy: 0.8403\n",
            "Epoch 187/200\n",
            "469/469 [==============================] - 1s 2ms/step - loss: 0.2619 - accuracy: 0.8944 - val_loss: 0.4634 - val_accuracy: 0.8364\n",
            "Epoch 188/200\n",
            "469/469 [==============================] - 1s 2ms/step - loss: 0.2466 - accuracy: 0.9033 - val_loss: 0.4533 - val_accuracy: 0.8343\n",
            "Epoch 189/200\n",
            "469/469 [==============================] - 1s 2ms/step - loss: 0.2535 - accuracy: 0.9001 - val_loss: 0.4402 - val_accuracy: 0.8442\n",
            "Epoch 190/200\n",
            "469/469 [==============================] - 1s 2ms/step - loss: 0.2557 - accuracy: 0.8915 - val_loss: 0.4504 - val_accuracy: 0.8364\n",
            "Epoch 191/200\n",
            "469/469 [==============================] - 1s 2ms/step - loss: 0.2630 - accuracy: 0.8960 - val_loss: 0.4522 - val_accuracy: 0.8421\n",
            "Epoch 192/200\n",
            "469/469 [==============================] - 1s 2ms/step - loss: 0.2332 - accuracy: 0.9042 - val_loss: 0.4545 - val_accuracy: 0.8425\n",
            "Epoch 193/200\n",
            "469/469 [==============================] - 1s 2ms/step - loss: 0.2482 - accuracy: 0.8930 - val_loss: 0.4572 - val_accuracy: 0.8382\n",
            "Epoch 194/200\n",
            "469/469 [==============================] - 1s 2ms/step - loss: 0.2376 - accuracy: 0.8965 - val_loss: 0.4635 - val_accuracy: 0.8416\n",
            "Epoch 195/200\n",
            "469/469 [==============================] - 1s 2ms/step - loss: 0.2482 - accuracy: 0.8977 - val_loss: 0.4559 - val_accuracy: 0.8429\n",
            "Epoch 196/200\n",
            "469/469 [==============================] - 1s 2ms/step - loss: 0.2270 - accuracy: 0.9102 - val_loss: 0.4584 - val_accuracy: 0.8425\n",
            "Epoch 197/200\n",
            "469/469 [==============================] - 1s 2ms/step - loss: 0.2580 - accuracy: 0.8936 - val_loss: 0.4519 - val_accuracy: 0.8412\n",
            "Epoch 198/200\n",
            "469/469 [==============================] - 1s 2ms/step - loss: 0.2444 - accuracy: 0.8992 - val_loss: 0.4560 - val_accuracy: 0.8429\n",
            "Epoch 199/200\n",
            "469/469 [==============================] - 1s 2ms/step - loss: 0.2387 - accuracy: 0.9037 - val_loss: 0.4524 - val_accuracy: 0.8408\n",
            "Epoch 200/200\n",
            "469/469 [==============================] - 1s 2ms/step - loss: 0.2436 - accuracy: 0.8977 - val_loss: 0.4496 - val_accuracy: 0.8438\n"
          ],
          "name": "stdout"
        }
      ]
    },
    {
      "cell_type": "code",
      "metadata": {
        "colab": {
          "base_uri": "https://localhost:8080/",
          "height": 295
        },
        "id": "xxNbaXVCIsZZ",
        "outputId": "168ce135-54b1-4c29-bef6-ccc6d744e82e"
      },
      "source": [
        "# summarize history for accuracy\n",
        "plt.plot(model_history2.history['accuracy'])\n",
        "plt.plot(model_history2.history['val_accuracy'])\n",
        "plt.title('model accuracy')\n",
        "plt.ylabel('accuracy')\n",
        "plt.xlabel('epoch')\n",
        "plt.legend(['train', 'test'], loc='upper left')\n",
        "plt.show()"
      ],
      "execution_count": 49,
      "outputs": [
        {
          "output_type": "display_data",
          "data": {
            "image/png": "[encoded data removed]",
            "text/plain": [
              "<Figure size 432x288 with 1 Axes>"
            ]
          },
          "metadata": {
            "tags": [],
            "needs_background": "light"
          }
        }
      ]
    },
    {
      "cell_type": "code",
      "metadata": {
        "colab": {
          "base_uri": "https://localhost:8080/",
          "height": 295
        },
        "id": "10l0wWEnIslS",
        "outputId": "51bb1710-3882-4d35-f2c2-9ce15a3b7f8a"
      },
      "source": [
        "# summarize history for loss\n",
        "plt.plot(model_history2.history['loss'])\n",
        "plt.plot(model_history2.history['val_loss'])\n",
        "plt.title('model loss')\n",
        "plt.ylabel('loss')\n",
        "plt.xlabel('epoch')\n",
        "plt.legend(['train', 'test'], loc='upper left')\n",
        "plt.show()"
      ],
      "execution_count": 50,
      "outputs": [
        {
          "output_type": "display_data",
          "data": {
            "image/png": "[encoded data removed]",
            "text/plain": [
              "<Figure size 432x288 with 1 Axes>"
            ]
          },
          "metadata": {
            "tags": [],
            "needs_background": "light"
          }
        }
      ]
    },
    {
      "cell_type": "code",
      "metadata": {
        "colab": {
          "base_uri": "https://localhost:8080/"
        },
        "id": "aYAhELpfL1l1",
        "outputId": "d1ebc712-1b6d-4ed6-dcc7-5e623b60d8a4"
      },
      "source": [
        "y_pred = classifier2.predict(X_test)\n",
        "y_pred = (y_pred > 0.5)\n",
        "report(y_test, y_pred)"
      ],
      "execution_count": 51,
      "outputs": [
        {
          "output_type": "stream",
          "text": [
            "Confusion Matrix\n",
            "[[2279  110]\n",
            " [ 356  255]]\n",
            "+++++++++++++++++++++++++++++++++++++++++++++++++++++++++++++++++++++++++++\n",
            "Accuracy Score: 84.4667%\n",
            "Recall Score: 41.7349%\n",
            "Specificity Score: 95.3956%\n",
            "False Positive Rate: 4.6044%\n",
            "Precision Score: 69.8630%\n",
            "+++++++++++++++++++++++++++++++++++++++++++++++++++++++++++++++++++++++++++\n",
            "Classification Report\n",
            "              precision    recall  f1-score   support\n",
            "\n",
            "           0       0.86      0.95      0.91      2389\n",
            "           1       0.70      0.42      0.52       611\n",
            "\n",
            "    accuracy                           0.84      3000\n",
            "   macro avg       0.78      0.69      0.71      3000\n",
            "weighted avg       0.83      0.84      0.83      3000\n",
            "\n"
          ],
          "name": "stdout"
        }
      ]
    },
    {
      "cell_type": "code",
      "metadata": {
        "colab": {
          "base_uri": "https://localhost:8080/",
          "height": 356
        },
        "id": "wfEL88QLL1sP",
        "outputId": "42710a1a-825b-4787-f115-48cc8c5344bc"
      },
      "source": [
        "\n",
        "train_fpr, train_tpr, thresholds = roc_curve(y_train, classifier2.predict_proba(X_train))\n",
        "test_fpr, test_tpr, thresholds = roc_curve(y_test, classifier2.predict_proba(X_test))\n",
        "plt.plot(train_fpr, train_tpr, label=\"train AUC =\"+str(auc(train_fpr, train_tpr)))\n",
        "plt.plot(test_fpr, test_tpr, label=\"test AUC =\"+str(auc(test_fpr, test_tpr)))\n",
        "plt.legend(loc = 'lower right')\n",
        "plt.plot([0, 1], [0, 1],'r--')\n",
        "plt.xlim([0, 1])\n",
        "plt.ylim([0, 1])\n",
        "plt.legend(loc=4)\n",
        "plt.ylabel('True Positive Rate')\n",
        "plt.xlabel('False Positive Rate')"
      ],
      "execution_count": 52,
      "outputs": [
        {
          "output_type": "stream",
          "text": [
            "/usr/local/lib/python3.7/dist-packages/tensorflow/python/keras/engine/sequential.py:425: UserWarning: `model.predict_proba()` is deprecated and will be removed after 2021-01-01. Please use `model.predict()` instead.\n",
            "  warnings.warn('`model.predict_proba()` is deprecated and '\n"
          ],
          "name": "stderr"
        },
        {
          "output_type": "execute_result",
          "data": {
            "text/plain": [
              "Text(0.5, 0, 'False Positive Rate')"
            ]
          },
          "metadata": {
            "tags": []
          },
          "execution_count": 52
        },
        {
          "output_type": "display_data",
          "data": {
            "image/png": "[encoded data removed]",
            "text/plain": [
              "<Figure size 432x288 with 1 Axes>"
            ]
          },
          "metadata": {
            "tags": [],
            "needs_background": "light"
          }
        }
      ]
    },
    {
      "cell_type": "code",
      "metadata": {
        "id": "Oqxxl6mYL1wx"
      },
      "source": [
        ""
      ],
      "execution_count": null,
      "outputs": []
    },
    {
      "cell_type": "markdown",
      "metadata": {
        "id": "P0dUnUhRMXFm"
      },
      "source": [
        "**Model 3**"
      ]
    },
    {
      "cell_type": "code",
      "metadata": {
        "colab": {
          "base_uri": "https://localhost:8080/"
        },
        "id": "vnt08tE_L15B",
        "outputId": "62b6b732-b8f9-41da-827d-05e513dc6f59"
      },
      "source": [
        "classifier3=Sequential()\n",
        "classifier3.add(Dense(units = 15, kernel_initializer='he_uniform',activation='relu',input_dim =X_train.shape[1]))\n",
        "# classifier2.add(Dropout(0.10))\n",
        "classifier3.add(Dense(units=10,kernel_initializer='he_uniform',activation='relu'))\n",
        "# # classifier2.add(Dropout(0.10))\n",
        "classifier3.add(Dense(units=5,kernel_initializer='he_uniform',activation='relu'))\n",
        "# classifier3.add(Dense(units=32,kernel_initializer='he_uniform',activation='relu'))\n",
        "# # classifier2.add(Dropout(0.10))\n",
        "# classifier3.add(Dense(units=16,kernel_initializer='he_uniform',activation='relu'))\n",
        "classifier3.add(Dense(units=1,kernel_initializer='glorot_uniform',activation='sigmoid'))\n",
        "classifier3.summary()"
      ],
      "execution_count": 86,
      "outputs": [
        {
          "output_type": "stream",
          "text": [
            "Model: \"sequential_14\"\n",
            "_________________________________________________________________\n",
            "Layer (type)                 Output Shape              Param #   \n",
            "=================================================================\n",
            "dense_58 (Dense)             (None, 15)                195       \n",
            "_________________________________________________________________\n",
            "dense_59 (Dense)             (None, 10)                160       \n",
            "_________________________________________________________________\n",
            "dense_60 (Dense)             (None, 5)                 55        \n",
            "_________________________________________________________________\n",
            "dense_61 (Dense)             (None, 1)                 6         \n",
            "=================================================================\n",
            "Total params: 416\n",
            "Trainable params: 416\n",
            "Non-trainable params: 0\n",
            "_________________________________________________________________\n"
          ],
          "name": "stdout"
        }
      ]
    },
    {
      "cell_type": "code",
      "metadata": {
        "id": "-WrREiykM6Ky"
      },
      "source": [
        ""
      ],
      "execution_count": null,
      "outputs": []
    },
    {
      "cell_type": "code",
      "metadata": {
        "colab": {
          "base_uri": "https://localhost:8080/"
        },
        "id": "_iA_MCWvL19G",
        "outputId": "e2d28c58-4826-44d2-cce6-7bd405d25d64"
      },
      "source": [
        "# Compiling the ANN\n",
        "callback =keras.callbacks.EarlyStopping(monitor='loss', patience=5)\n",
        "classifier3.compile(optimizer = 'Adam', loss = 'binary_crossentropy', metrics = ['accuracy'])\n",
        "# Fitting the ANN to the Training set\n",
        "#validation_split=0.22,\n",
        "model_history3=classifier3.fit(X_train, y_train, batch_size = 10,epochs=300)"
      ],
      "execution_count": 89,
      "outputs": [
        {
          "output_type": "stream",
          "text": [
            "Epoch 1/300\n",
            "700/700 [==============================] - 1s 1ms/step - loss: 0.3226 - accuracy: 0.8693\n",
            "Epoch 2/300\n",
            "700/700 [==============================] - 1s 1ms/step - loss: 0.3099 - accuracy: 0.8736\n",
            "Epoch 3/300\n",
            "700/700 [==============================] - 1s 1ms/step - loss: 0.3267 - accuracy: 0.8721\n",
            "Epoch 4/300\n",
            "700/700 [==============================] - 1s 1ms/step - loss: 0.3196 - accuracy: 0.8724\n",
            "Epoch 5/300\n",
            "700/700 [==============================] - 1s 1ms/step - loss: 0.3149 - accuracy: 0.8727\n",
            "Epoch 6/300\n",
            "700/700 [==============================] - 1s 1ms/step - loss: 0.3139 - accuracy: 0.8769\n",
            "Epoch 7/300\n",
            "700/700 [==============================] - 1s 1ms/step - loss: 0.3071 - accuracy: 0.8758\n",
            "Epoch 8/300\n",
            "700/700 [==============================] - 1s 1ms/step - loss: 0.3127 - accuracy: 0.8748\n",
            "Epoch 9/300\n",
            "700/700 [==============================] - 1s 1ms/step - loss: 0.3094 - accuracy: 0.8796\n",
            "Epoch 10/300\n",
            "700/700 [==============================] - 1s 1ms/step - loss: 0.3073 - accuracy: 0.8771\n",
            "Epoch 11/300\n",
            "700/700 [==============================] - 1s 1ms/step - loss: 0.3248 - accuracy: 0.8681\n",
            "Epoch 12/300\n",
            "700/700 [==============================] - 1s 1ms/step - loss: 0.3229 - accuracy: 0.8706\n",
            "Epoch 13/300\n",
            "700/700 [==============================] - 1s 1ms/step - loss: 0.3283 - accuracy: 0.8680\n",
            "Epoch 14/300\n",
            "700/700 [==============================] - 1s 1ms/step - loss: 0.3335 - accuracy: 0.8644\n",
            "Epoch 15/300\n",
            "700/700 [==============================] - 1s 1ms/step - loss: 0.3277 - accuracy: 0.8705\n",
            "Epoch 16/300\n",
            "700/700 [==============================] - 1s 1ms/step - loss: 0.3197 - accuracy: 0.8729\n",
            "Epoch 17/300\n",
            "700/700 [==============================] - 1s 1ms/step - loss: 0.3225 - accuracy: 0.8680\n",
            "Epoch 18/300\n",
            "700/700 [==============================] - 1s 1ms/step - loss: 0.3239 - accuracy: 0.8723\n",
            "Epoch 19/300\n",
            "700/700 [==============================] - 1s 1ms/step - loss: 0.3135 - accuracy: 0.8742\n",
            "Epoch 20/300\n",
            "700/700 [==============================] - 1s 1ms/step - loss: 0.3203 - accuracy: 0.8697\n",
            "Epoch 21/300\n",
            "700/700 [==============================] - 1s 1ms/step - loss: 0.3100 - accuracy: 0.8795\n",
            "Epoch 22/300\n",
            "700/700 [==============================] - 1s 1ms/step - loss: 0.3161 - accuracy: 0.8756\n",
            "Epoch 23/300\n",
            "700/700 [==============================] - 1s 1ms/step - loss: 0.3206 - accuracy: 0.8732\n",
            "Epoch 24/300\n",
            "700/700 [==============================] - 1s 1ms/step - loss: 0.3267 - accuracy: 0.8652\n",
            "Epoch 25/300\n",
            "700/700 [==============================] - 1s 1ms/step - loss: 0.3178 - accuracy: 0.8721\n",
            "Epoch 26/300\n",
            "700/700 [==============================] - 1s 1ms/step - loss: 0.3175 - accuracy: 0.8700\n",
            "Epoch 27/300\n",
            "700/700 [==============================] - 1s 1ms/step - loss: 0.3086 - accuracy: 0.8785\n",
            "Epoch 28/300\n",
            "700/700 [==============================] - 1s 1ms/step - loss: 0.3235 - accuracy: 0.8685\n",
            "Epoch 29/300\n",
            "700/700 [==============================] - 1s 1ms/step - loss: 0.3102 - accuracy: 0.8757\n",
            "Epoch 30/300\n",
            "700/700 [==============================] - 1s 1ms/step - loss: 0.3113 - accuracy: 0.8767\n",
            "Epoch 31/300\n",
            "700/700 [==============================] - 1s 1ms/step - loss: 0.3136 - accuracy: 0.8767\n",
            "Epoch 32/300\n",
            "700/700 [==============================] - 1s 1ms/step - loss: 0.3233 - accuracy: 0.8698\n",
            "Epoch 33/300\n",
            "700/700 [==============================] - 1s 1ms/step - loss: 0.3087 - accuracy: 0.8751\n",
            "Epoch 34/300\n",
            "700/700 [==============================] - 1s 1ms/step - loss: 0.3095 - accuracy: 0.8781\n",
            "Epoch 35/300\n",
            "700/700 [==============================] - 1s 1ms/step - loss: 0.3070 - accuracy: 0.8767\n",
            "Epoch 36/300\n",
            "700/700 [==============================] - 1s 1ms/step - loss: 0.3120 - accuracy: 0.8754\n",
            "Epoch 37/300\n",
            "700/700 [==============================] - 1s 1ms/step - loss: 0.3087 - accuracy: 0.8771\n",
            "Epoch 38/300\n",
            "700/700 [==============================] - 1s 1ms/step - loss: 0.3221 - accuracy: 0.8709\n",
            "Epoch 39/300\n",
            "700/700 [==============================] - 1s 1ms/step - loss: 0.3284 - accuracy: 0.8631\n",
            "Epoch 40/300\n",
            "700/700 [==============================] - 1s 1ms/step - loss: 0.3262 - accuracy: 0.8675\n",
            "Epoch 41/300\n",
            "700/700 [==============================] - 1s 1ms/step - loss: 0.3230 - accuracy: 0.8659\n",
            "Epoch 42/300\n",
            "700/700 [==============================] - 1s 1ms/step - loss: 0.3142 - accuracy: 0.8667\n",
            "Epoch 43/300\n",
            "700/700 [==============================] - 1s 1ms/step - loss: 0.3099 - accuracy: 0.8820\n",
            "Epoch 44/300\n",
            "700/700 [==============================] - 1s 1ms/step - loss: 0.3252 - accuracy: 0.8703\n",
            "Epoch 45/300\n",
            "700/700 [==============================] - 1s 1ms/step - loss: 0.3143 - accuracy: 0.8749\n",
            "Epoch 46/300\n",
            "700/700 [==============================] - 1s 1ms/step - loss: 0.3131 - accuracy: 0.8748\n",
            "Epoch 47/300\n",
            "700/700 [==============================] - 1s 1ms/step - loss: 0.3087 - accuracy: 0.8805\n",
            "Epoch 48/300\n",
            "700/700 [==============================] - 1s 1ms/step - loss: 0.3127 - accuracy: 0.8748\n",
            "Epoch 49/300\n",
            "700/700 [==============================] - 1s 1ms/step - loss: 0.3210 - accuracy: 0.8701\n",
            "Epoch 50/300\n",
            "700/700 [==============================] - 1s 1ms/step - loss: 0.3161 - accuracy: 0.8726\n",
            "Epoch 51/300\n",
            "700/700 [==============================] - 1s 1ms/step - loss: 0.3061 - accuracy: 0.8809\n",
            "Epoch 52/300\n",
            "700/700 [==============================] - 1s 1ms/step - loss: 0.3109 - accuracy: 0.8735\n",
            "Epoch 53/300\n",
            "700/700 [==============================] - 1s 1ms/step - loss: 0.3014 - accuracy: 0.8801\n",
            "Epoch 54/300\n",
            "700/700 [==============================] - 1s 1ms/step - loss: 0.3261 - accuracy: 0.8672\n",
            "Epoch 55/300\n",
            "700/700 [==============================] - 1s 1ms/step - loss: 0.3275 - accuracy: 0.8686\n",
            "Epoch 56/300\n",
            "700/700 [==============================] - 1s 1ms/step - loss: 0.3139 - accuracy: 0.8737\n",
            "Epoch 57/300\n",
            "700/700 [==============================] - 1s 1ms/step - loss: 0.3154 - accuracy: 0.8746\n",
            "Epoch 58/300\n",
            "700/700 [==============================] - 1s 1ms/step - loss: 0.3253 - accuracy: 0.8671\n",
            "Epoch 59/300\n",
            "700/700 [==============================] - 1s 1ms/step - loss: 0.3187 - accuracy: 0.8747\n",
            "Epoch 60/300\n",
            "700/700 [==============================] - 1s 1ms/step - loss: 0.3210 - accuracy: 0.8720\n",
            "Epoch 61/300\n",
            "700/700 [==============================] - 1s 1ms/step - loss: 0.3124 - accuracy: 0.8739\n",
            "Epoch 62/300\n",
            "700/700 [==============================] - 1s 1ms/step - loss: 0.3168 - accuracy: 0.8751\n",
            "Epoch 63/300\n",
            "700/700 [==============================] - 1s 1ms/step - loss: 0.3123 - accuracy: 0.8748\n",
            "Epoch 64/300\n",
            "700/700 [==============================] - 1s 1ms/step - loss: 0.3292 - accuracy: 0.8646\n",
            "Epoch 65/300\n",
            "700/700 [==============================] - 1s 1ms/step - loss: 0.3155 - accuracy: 0.8735\n",
            "Epoch 66/300\n",
            "700/700 [==============================] - 1s 1ms/step - loss: 0.3032 - accuracy: 0.8795\n",
            "Epoch 67/300\n",
            "700/700 [==============================] - 1s 1ms/step - loss: 0.3072 - accuracy: 0.8794\n",
            "Epoch 68/300\n",
            "700/700 [==============================] - 1s 1ms/step - loss: 0.3246 - accuracy: 0.8698\n",
            "Epoch 69/300\n",
            "700/700 [==============================] - 1s 1ms/step - loss: 0.3161 - accuracy: 0.8769\n",
            "Epoch 70/300\n",
            "700/700 [==============================] - 1s 1ms/step - loss: 0.3043 - accuracy: 0.8771\n",
            "Epoch 71/300\n",
            "700/700 [==============================] - 1s 1ms/step - loss: 0.3038 - accuracy: 0.8770\n",
            "Epoch 72/300\n",
            "700/700 [==============================] - 1s 1ms/step - loss: 0.3135 - accuracy: 0.8723\n",
            "Epoch 73/300\n",
            "700/700 [==============================] - 1s 1ms/step - loss: 0.3203 - accuracy: 0.8712\n",
            "Epoch 74/300\n",
            "700/700 [==============================] - 1s 1ms/step - loss: 0.3204 - accuracy: 0.8708\n",
            "Epoch 75/300\n",
            "700/700 [==============================] - 1s 1ms/step - loss: 0.3127 - accuracy: 0.8733\n",
            "Epoch 76/300\n",
            "700/700 [==============================] - 1s 1ms/step - loss: 0.3088 - accuracy: 0.8804\n",
            "Epoch 77/300\n",
            "700/700 [==============================] - 1s 1ms/step - loss: 0.3017 - accuracy: 0.8782\n",
            "Epoch 78/300\n",
            "700/700 [==============================] - 1s 1ms/step - loss: 0.3217 - accuracy: 0.8728\n",
            "Epoch 79/300\n",
            "700/700 [==============================] - 1s 1ms/step - loss: 0.3151 - accuracy: 0.8762\n",
            "Epoch 80/300\n",
            "700/700 [==============================] - 1s 1ms/step - loss: 0.3134 - accuracy: 0.8742\n",
            "Epoch 81/300\n",
            "700/700 [==============================] - 1s 1ms/step - loss: 0.3220 - accuracy: 0.8680\n",
            "Epoch 82/300\n",
            "700/700 [==============================] - 1s 1ms/step - loss: 0.3171 - accuracy: 0.8686\n",
            "Epoch 83/300\n",
            "700/700 [==============================] - 1s 1ms/step - loss: 0.3166 - accuracy: 0.8738\n",
            "Epoch 84/300\n",
            "700/700 [==============================] - 1s 1ms/step - loss: 0.3031 - accuracy: 0.8801\n",
            "Epoch 85/300\n",
            "700/700 [==============================] - 1s 1ms/step - loss: 0.3070 - accuracy: 0.8792\n",
            "Epoch 86/300\n",
            "700/700 [==============================] - 1s 1ms/step - loss: 0.3114 - accuracy: 0.8756\n",
            "Epoch 87/300\n",
            "700/700 [==============================] - 1s 1ms/step - loss: 0.3176 - accuracy: 0.8668\n",
            "Epoch 88/300\n",
            "700/700 [==============================] - 1s 1ms/step - loss: 0.3207 - accuracy: 0.8719\n",
            "Epoch 89/300\n",
            "700/700 [==============================] - 1s 1ms/step - loss: 0.3165 - accuracy: 0.8727\n",
            "Epoch 90/300\n",
            "700/700 [==============================] - 1s 1ms/step - loss: 0.3187 - accuracy: 0.8716\n",
            "Epoch 91/300\n",
            "700/700 [==============================] - 1s 1ms/step - loss: 0.3132 - accuracy: 0.8789\n",
            "Epoch 92/300\n",
            "700/700 [==============================] - 1s 1ms/step - loss: 0.3104 - accuracy: 0.8740\n",
            "Epoch 93/300\n",
            "700/700 [==============================] - 1s 1ms/step - loss: 0.3180 - accuracy: 0.8734\n",
            "Epoch 94/300\n",
            "700/700 [==============================] - 1s 1ms/step - loss: 0.3195 - accuracy: 0.8685\n",
            "Epoch 95/300\n",
            "700/700 [==============================] - 1s 1ms/step - loss: 0.3203 - accuracy: 0.8699\n",
            "Epoch 96/300\n",
            "700/700 [==============================] - 1s 1ms/step - loss: 0.3210 - accuracy: 0.8699\n",
            "Epoch 97/300\n",
            "700/700 [==============================] - 1s 1ms/step - loss: 0.3216 - accuracy: 0.8732\n",
            "Epoch 98/300\n",
            "700/700 [==============================] - 1s 1ms/step - loss: 0.3142 - accuracy: 0.8742\n",
            "Epoch 99/300\n",
            "700/700 [==============================] - 1s 1ms/step - loss: 0.3169 - accuracy: 0.8737\n",
            "Epoch 100/300\n",
            "700/700 [==============================] - 1s 1ms/step - loss: 0.3153 - accuracy: 0.8714\n",
            "Epoch 101/300\n",
            "700/700 [==============================] - 1s 1ms/step - loss: 0.3036 - accuracy: 0.8801\n",
            "Epoch 102/300\n",
            "700/700 [==============================] - 1s 1ms/step - loss: 0.2963 - accuracy: 0.8821\n",
            "Epoch 103/300\n",
            "700/700 [==============================] - 1s 1ms/step - loss: 0.3002 - accuracy: 0.8814\n",
            "Epoch 104/300\n",
            "700/700 [==============================] - 1s 1ms/step - loss: 0.3108 - accuracy: 0.8762\n",
            "Epoch 105/300\n",
            "700/700 [==============================] - 1s 1ms/step - loss: 0.3075 - accuracy: 0.8778\n",
            "Epoch 106/300\n",
            "700/700 [==============================] - 1s 1ms/step - loss: 0.2982 - accuracy: 0.8829\n",
            "Epoch 107/300\n",
            "700/700 [==============================] - 1s 1ms/step - loss: 0.3174 - accuracy: 0.8656\n",
            "Epoch 108/300\n",
            "700/700 [==============================] - 1s 1ms/step - loss: 0.3211 - accuracy: 0.8724\n",
            "Epoch 109/300\n",
            "700/700 [==============================] - 1s 1ms/step - loss: 0.3138 - accuracy: 0.8775\n",
            "Epoch 110/300\n",
            "700/700 [==============================] - 1s 1ms/step - loss: 0.3158 - accuracy: 0.8707\n",
            "Epoch 111/300\n",
            "700/700 [==============================] - 1s 1ms/step - loss: 0.2971 - accuracy: 0.8830\n",
            "Epoch 112/300\n",
            "700/700 [==============================] - 1s 1ms/step - loss: 0.3025 - accuracy: 0.8816\n",
            "Epoch 113/300\n",
            "700/700 [==============================] - 1s 1ms/step - loss: 0.3158 - accuracy: 0.8727\n",
            "Epoch 114/300\n",
            "700/700 [==============================] - 1s 1ms/step - loss: 0.3300 - accuracy: 0.8653\n",
            "Epoch 115/300\n",
            "700/700 [==============================] - 1s 1ms/step - loss: 0.3120 - accuracy: 0.8752\n",
            "Epoch 116/300\n",
            "700/700 [==============================] - 1s 1ms/step - loss: 0.3226 - accuracy: 0.8726\n",
            "Epoch 117/300\n",
            "700/700 [==============================] - 1s 1ms/step - loss: 0.3115 - accuracy: 0.8752\n",
            "Epoch 118/300\n",
            "700/700 [==============================] - 1s 1ms/step - loss: 0.3064 - accuracy: 0.8739\n",
            "Epoch 119/300\n",
            "700/700 [==============================] - 1s 1ms/step - loss: 0.3116 - accuracy: 0.8750\n",
            "Epoch 120/300\n",
            "700/700 [==============================] - 1s 1ms/step - loss: 0.3097 - accuracy: 0.8756\n",
            "Epoch 121/300\n",
            "700/700 [==============================] - 1s 1ms/step - loss: 0.3175 - accuracy: 0.8745\n",
            "Epoch 122/300\n",
            "700/700 [==============================] - 1s 1ms/step - loss: 0.3131 - accuracy: 0.8740\n",
            "Epoch 123/300\n",
            "700/700 [==============================] - 1s 1ms/step - loss: 0.2992 - accuracy: 0.8808\n",
            "Epoch 124/300\n",
            "700/700 [==============================] - 1s 1ms/step - loss: 0.3233 - accuracy: 0.8666\n",
            "Epoch 125/300\n",
            "700/700 [==============================] - 1s 1ms/step - loss: 0.3027 - accuracy: 0.8838\n",
            "Epoch 126/300\n",
            "700/700 [==============================] - 1s 1ms/step - loss: 0.3141 - accuracy: 0.8746\n",
            "Epoch 127/300\n",
            "700/700 [==============================] - 1s 1ms/step - loss: 0.3102 - accuracy: 0.8753\n",
            "Epoch 128/300\n",
            "700/700 [==============================] - 1s 1ms/step - loss: 0.3110 - accuracy: 0.8774\n",
            "Epoch 129/300\n",
            "700/700 [==============================] - 1s 1ms/step - loss: 0.3127 - accuracy: 0.8711\n",
            "Epoch 130/300\n",
            "700/700 [==============================] - 1s 1ms/step - loss: 0.2999 - accuracy: 0.8830\n",
            "Epoch 131/300\n",
            "700/700 [==============================] - 1s 1ms/step - loss: 0.3121 - accuracy: 0.8746\n",
            "Epoch 132/300\n",
            "700/700 [==============================] - 1s 1ms/step - loss: 0.2992 - accuracy: 0.8823\n",
            "Epoch 133/300\n",
            "700/700 [==============================] - 1s 1ms/step - loss: 0.3011 - accuracy: 0.8829\n",
            "Epoch 134/300\n",
            "700/700 [==============================] - 1s 1ms/step - loss: 0.3024 - accuracy: 0.8812\n",
            "Epoch 135/300\n",
            "700/700 [==============================] - 1s 1ms/step - loss: 0.3114 - accuracy: 0.8732\n",
            "Epoch 136/300\n",
            "700/700 [==============================] - 1s 1ms/step - loss: 0.3112 - accuracy: 0.8727\n",
            "Epoch 137/300\n",
            "700/700 [==============================] - 1s 2ms/step - loss: 0.3135 - accuracy: 0.8748\n",
            "Epoch 138/300\n",
            "700/700 [==============================] - 1s 1ms/step - loss: 0.3106 - accuracy: 0.8755\n",
            "Epoch 139/300\n",
            "700/700 [==============================] - 1s 1ms/step - loss: 0.3135 - accuracy: 0.8739\n",
            "Epoch 140/300\n",
            "700/700 [==============================] - 1s 1ms/step - loss: 0.3214 - accuracy: 0.8708\n",
            "Epoch 141/300\n",
            "700/700 [==============================] - 1s 1ms/step - loss: 0.3103 - accuracy: 0.8772\n",
            "Epoch 142/300\n",
            "700/700 [==============================] - 1s 1ms/step - loss: 0.3047 - accuracy: 0.8807\n",
            "Epoch 143/300\n",
            "700/700 [==============================] - 1s 1ms/step - loss: 0.2890 - accuracy: 0.8876\n",
            "Epoch 144/300\n",
            "700/700 [==============================] - 1s 1ms/step - loss: 0.3047 - accuracy: 0.8815\n",
            "Epoch 145/300\n",
            "700/700 [==============================] - 1s 1ms/step - loss: 0.3066 - accuracy: 0.8760\n",
            "Epoch 146/300\n",
            "700/700 [==============================] - 1s 1ms/step - loss: 0.3139 - accuracy: 0.8722\n",
            "Epoch 147/300\n",
            "700/700 [==============================] - 1s 1ms/step - loss: 0.3177 - accuracy: 0.8707\n",
            "Epoch 148/300\n",
            "700/700 [==============================] - 1s 1ms/step - loss: 0.3153 - accuracy: 0.8694\n",
            "Epoch 149/300\n",
            "700/700 [==============================] - 1s 1ms/step - loss: 0.3143 - accuracy: 0.8774\n",
            "Epoch 150/300\n",
            "700/700 [==============================] - 1s 1ms/step - loss: 0.3091 - accuracy: 0.8784\n",
            "Epoch 151/300\n",
            "700/700 [==============================] - 1s 1ms/step - loss: 0.3134 - accuracy: 0.8731\n",
            "Epoch 152/300\n",
            "700/700 [==============================] - 1s 1ms/step - loss: 0.3117 - accuracy: 0.8786\n",
            "Epoch 153/300\n",
            "700/700 [==============================] - 1s 1ms/step - loss: 0.3148 - accuracy: 0.8753\n",
            "Epoch 154/300\n",
            "700/700 [==============================] - 1s 1ms/step - loss: 0.2942 - accuracy: 0.8849\n",
            "Epoch 155/300\n",
            "700/700 [==============================] - 1s 1ms/step - loss: 0.3121 - accuracy: 0.8743\n",
            "Epoch 156/300\n",
            "700/700 [==============================] - 1s 1ms/step - loss: 0.3038 - accuracy: 0.8787\n",
            "Epoch 157/300\n",
            "700/700 [==============================] - 1s 2ms/step - loss: 0.3239 - accuracy: 0.8682\n",
            "Epoch 158/300\n",
            "700/700 [==============================] - 1s 2ms/step - loss: 0.3158 - accuracy: 0.8708\n",
            "Epoch 159/300\n",
            "700/700 [==============================] - 1s 1ms/step - loss: 0.3008 - accuracy: 0.8820\n",
            "Epoch 160/300\n",
            "700/700 [==============================] - 1s 1ms/step - loss: 0.3166 - accuracy: 0.8729\n",
            "Epoch 161/300\n",
            "700/700 [==============================] - 1s 2ms/step - loss: 0.3077 - accuracy: 0.8748\n",
            "Epoch 162/300\n",
            "700/700 [==============================] - 1s 1ms/step - loss: 0.3124 - accuracy: 0.8767\n",
            "Epoch 163/300\n",
            "700/700 [==============================] - 1s 1ms/step - loss: 0.3193 - accuracy: 0.8730\n",
            "Epoch 164/300\n",
            "700/700 [==============================] - 1s 1ms/step - loss: 0.3151 - accuracy: 0.8718\n",
            "Epoch 165/300\n",
            "700/700 [==============================] - 1s 1ms/step - loss: 0.2998 - accuracy: 0.8786\n",
            "Epoch 166/300\n",
            "700/700 [==============================] - 1s 2ms/step - loss: 0.3026 - accuracy: 0.8802\n",
            "Epoch 167/300\n",
            "700/700 [==============================] - 1s 1ms/step - loss: 0.3186 - accuracy: 0.8721\n",
            "Epoch 168/300\n",
            "700/700 [==============================] - 1s 1ms/step - loss: 0.3157 - accuracy: 0.8741\n",
            "Epoch 169/300\n",
            "700/700 [==============================] - 1s 1ms/step - loss: 0.3008 - accuracy: 0.8799\n",
            "Epoch 170/300\n",
            "700/700 [==============================] - 1s 1ms/step - loss: 0.3165 - accuracy: 0.8717\n",
            "Epoch 171/300\n",
            "700/700 [==============================] - 1s 1ms/step - loss: 0.3066 - accuracy: 0.8806\n",
            "Epoch 172/300\n",
            "700/700 [==============================] - 1s 1ms/step - loss: 0.2940 - accuracy: 0.8809\n",
            "Epoch 173/300\n",
            "700/700 [==============================] - 1s 1ms/step - loss: 0.3158 - accuracy: 0.8749\n",
            "Epoch 174/300\n",
            "700/700 [==============================] - 1s 1ms/step - loss: 0.3147 - accuracy: 0.8766\n",
            "Epoch 175/300\n",
            "700/700 [==============================] - 1s 1ms/step - loss: 0.3062 - accuracy: 0.8783\n",
            "Epoch 176/300\n",
            "700/700 [==============================] - 1s 1ms/step - loss: 0.3056 - accuracy: 0.8757\n",
            "Epoch 177/300\n",
            "700/700 [==============================] - 1s 1ms/step - loss: 0.3037 - accuracy: 0.8749\n",
            "Epoch 178/300\n",
            "700/700 [==============================] - 1s 1ms/step - loss: 0.3201 - accuracy: 0.8706\n",
            "Epoch 179/300\n",
            "700/700 [==============================] - 1s 1ms/step - loss: 0.3133 - accuracy: 0.8742\n",
            "Epoch 180/300\n",
            "700/700 [==============================] - 1s 1ms/step - loss: 0.3030 - accuracy: 0.8800\n",
            "Epoch 181/300\n",
            "700/700 [==============================] - 1s 1ms/step - loss: 0.3084 - accuracy: 0.8734\n",
            "Epoch 182/300\n",
            "700/700 [==============================] - 1s 1ms/step - loss: 0.2989 - accuracy: 0.8847\n",
            "Epoch 183/300\n",
            "700/700 [==============================] - 1s 1ms/step - loss: 0.3106 - accuracy: 0.8746\n",
            "Epoch 184/300\n",
            "700/700 [==============================] - 1s 1ms/step - loss: 0.3067 - accuracy: 0.8785\n",
            "Epoch 185/300\n",
            "700/700 [==============================] - 1s 1ms/step - loss: 0.3159 - accuracy: 0.8739\n",
            "Epoch 186/300\n",
            "700/700 [==============================] - 1s 1ms/step - loss: 0.3169 - accuracy: 0.8732\n",
            "Epoch 187/300\n",
            "700/700 [==============================] - 1s 1ms/step - loss: 0.3153 - accuracy: 0.8728\n",
            "Epoch 188/300\n",
            "700/700 [==============================] - 1s 1ms/step - loss: 0.3040 - accuracy: 0.8773\n",
            "Epoch 189/300\n",
            "700/700 [==============================] - 1s 1ms/step - loss: 0.3174 - accuracy: 0.8723\n",
            "Epoch 190/300\n",
            "700/700 [==============================] - 1s 1ms/step - loss: 0.3051 - accuracy: 0.8790\n",
            "Epoch 191/300\n",
            "700/700 [==============================] - 1s 1ms/step - loss: 0.3097 - accuracy: 0.8801\n",
            "Epoch 192/300\n",
            "700/700 [==============================] - 1s 1ms/step - loss: 0.3057 - accuracy: 0.8750\n",
            "Epoch 193/300\n",
            "700/700 [==============================] - 1s 1ms/step - loss: 0.3105 - accuracy: 0.8729\n",
            "Epoch 194/300\n",
            "700/700 [==============================] - 1s 1ms/step - loss: 0.3018 - accuracy: 0.8828\n",
            "Epoch 195/300\n",
            "700/700 [==============================] - 1s 1ms/step - loss: 0.3019 - accuracy: 0.8801\n",
            "Epoch 196/300\n",
            "700/700 [==============================] - 1s 1ms/step - loss: 0.3091 - accuracy: 0.8807\n",
            "Epoch 197/300\n",
            "700/700 [==============================] - 1s 1ms/step - loss: 0.3173 - accuracy: 0.8721\n",
            "Epoch 198/300\n",
            "700/700 [==============================] - 1s 1ms/step - loss: 0.3029 - accuracy: 0.8795\n",
            "Epoch 199/300\n",
            "700/700 [==============================] - 1s 1ms/step - loss: 0.3089 - accuracy: 0.8809\n",
            "Epoch 200/300\n",
            "700/700 [==============================] - 1s 1ms/step - loss: 0.3091 - accuracy: 0.8750\n",
            "Epoch 201/300\n",
            "700/700 [==============================] - 1s 1ms/step - loss: 0.3030 - accuracy: 0.8814\n",
            "Epoch 202/300\n",
            "700/700 [==============================] - 1s 1ms/step - loss: 0.3125 - accuracy: 0.8749\n",
            "Epoch 203/300\n",
            "700/700 [==============================] - 1s 1ms/step - loss: 0.3119 - accuracy: 0.8714\n",
            "Epoch 204/300\n",
            "700/700 [==============================] - 1s 1ms/step - loss: 0.3030 - accuracy: 0.8759\n",
            "Epoch 205/300\n",
            "700/700 [==============================] - 1s 1ms/step - loss: 0.3077 - accuracy: 0.8822\n",
            "Epoch 206/300\n",
            "700/700 [==============================] - 1s 1ms/step - loss: 0.3105 - accuracy: 0.8769\n",
            "Epoch 207/300\n",
            "700/700 [==============================] - 1s 1ms/step - loss: 0.3113 - accuracy: 0.8715\n",
            "Epoch 208/300\n",
            "700/700 [==============================] - 1s 1ms/step - loss: 0.3100 - accuracy: 0.8735\n",
            "Epoch 209/300\n",
            "700/700 [==============================] - 1s 1ms/step - loss: 0.3276 - accuracy: 0.8660\n",
            "Epoch 210/300\n",
            "700/700 [==============================] - 1s 1ms/step - loss: 0.3058 - accuracy: 0.8732\n",
            "Epoch 211/300\n",
            "700/700 [==============================] - 1s 1ms/step - loss: 0.2988 - accuracy: 0.8807\n",
            "Epoch 212/300\n",
            "700/700 [==============================] - 1s 1ms/step - loss: 0.3120 - accuracy: 0.8764\n",
            "Epoch 213/300\n",
            "700/700 [==============================] - 1s 1ms/step - loss: 0.3053 - accuracy: 0.8804\n",
            "Epoch 214/300\n",
            "700/700 [==============================] - 1s 1ms/step - loss: 0.3050 - accuracy: 0.8783\n",
            "Epoch 215/300\n",
            "700/700 [==============================] - 1s 1ms/step - loss: 0.3132 - accuracy: 0.8745\n",
            "Epoch 216/300\n",
            "700/700 [==============================] - 1s 1ms/step - loss: 0.3108 - accuracy: 0.8733\n",
            "Epoch 217/300\n",
            "700/700 [==============================] - 1s 1ms/step - loss: 0.3068 - accuracy: 0.8735\n",
            "Epoch 218/300\n",
            "700/700 [==============================] - 1s 1ms/step - loss: 0.3152 - accuracy: 0.8714\n",
            "Epoch 219/300\n",
            "700/700 [==============================] - 1s 1ms/step - loss: 0.2957 - accuracy: 0.8819\n",
            "Epoch 220/300\n",
            "700/700 [==============================] - 1s 1ms/step - loss: 0.3117 - accuracy: 0.8756\n",
            "Epoch 221/300\n",
            "700/700 [==============================] - 1s 1ms/step - loss: 0.3165 - accuracy: 0.8728\n",
            "Epoch 222/300\n",
            "700/700 [==============================] - 1s 1ms/step - loss: 0.3003 - accuracy: 0.8805\n",
            "Epoch 223/300\n",
            "700/700 [==============================] - 1s 1ms/step - loss: 0.3058 - accuracy: 0.8788\n",
            "Epoch 224/300\n",
            "700/700 [==============================] - 1s 1ms/step - loss: 0.3163 - accuracy: 0.8706\n",
            "Epoch 225/300\n",
            "700/700 [==============================] - 1s 1ms/step - loss: 0.3009 - accuracy: 0.8846\n",
            "Epoch 226/300\n",
            "700/700 [==============================] - 1s 1ms/step - loss: 0.2996 - accuracy: 0.8807\n",
            "Epoch 227/300\n",
            "700/700 [==============================] - 1s 1ms/step - loss: 0.3174 - accuracy: 0.8703\n",
            "Epoch 228/300\n",
            "700/700 [==============================] - 1s 1ms/step - loss: 0.3038 - accuracy: 0.8755\n",
            "Epoch 229/300\n",
            "700/700 [==============================] - 1s 1ms/step - loss: 0.3048 - accuracy: 0.8750\n",
            "Epoch 230/300\n",
            "700/700 [==============================] - 1s 1ms/step - loss: 0.3121 - accuracy: 0.8755\n",
            "Epoch 231/300\n",
            "700/700 [==============================] - 1s 1ms/step - loss: 0.3230 - accuracy: 0.8688\n",
            "Epoch 232/300\n",
            "700/700 [==============================] - 1s 1ms/step - loss: 0.3193 - accuracy: 0.8734\n",
            "Epoch 233/300\n",
            "700/700 [==============================] - 1s 1ms/step - loss: 0.3020 - accuracy: 0.8786\n",
            "Epoch 234/300\n",
            "700/700 [==============================] - 1s 1ms/step - loss: 0.3057 - accuracy: 0.8832\n",
            "Epoch 235/300\n",
            "700/700 [==============================] - 1s 1ms/step - loss: 0.3125 - accuracy: 0.8745\n",
            "Epoch 236/300\n",
            "700/700 [==============================] - 1s 1ms/step - loss: 0.2997 - accuracy: 0.8819\n",
            "Epoch 237/300\n",
            "700/700 [==============================] - 1s 1ms/step - loss: 0.3083 - accuracy: 0.8775\n",
            "Epoch 238/300\n",
            "700/700 [==============================] - 1s 1ms/step - loss: 0.2895 - accuracy: 0.8794\n",
            "Epoch 239/300\n",
            "700/700 [==============================] - 1s 1ms/step - loss: 0.3033 - accuracy: 0.8789\n",
            "Epoch 240/300\n",
            "700/700 [==============================] - 1s 1ms/step - loss: 0.3092 - accuracy: 0.8763\n",
            "Epoch 241/300\n",
            "700/700 [==============================] - 1s 1ms/step - loss: 0.3057 - accuracy: 0.8806\n",
            "Epoch 242/300\n",
            "700/700 [==============================] - 1s 1ms/step - loss: 0.3076 - accuracy: 0.8797\n",
            "Epoch 243/300\n",
            "700/700 [==============================] - 1s 1ms/step - loss: 0.3059 - accuracy: 0.8814\n",
            "Epoch 244/300\n",
            "700/700 [==============================] - 1s 1ms/step - loss: 0.3063 - accuracy: 0.8774\n",
            "Epoch 245/300\n",
            "700/700 [==============================] - 1s 1ms/step - loss: 0.3105 - accuracy: 0.8765\n",
            "Epoch 246/300\n",
            "700/700 [==============================] - 1s 1ms/step - loss: 0.3050 - accuracy: 0.8823\n",
            "Epoch 247/300\n",
            "700/700 [==============================] - 1s 1ms/step - loss: 0.3124 - accuracy: 0.8783\n",
            "Epoch 248/300\n",
            "700/700 [==============================] - 1s 1ms/step - loss: 0.3139 - accuracy: 0.8741\n",
            "Epoch 249/300\n",
            "700/700 [==============================] - 1s 1ms/step - loss: 0.3089 - accuracy: 0.8722\n",
            "Epoch 250/300\n",
            "700/700 [==============================] - 1s 1ms/step - loss: 0.3030 - accuracy: 0.8818\n",
            "Epoch 251/300\n",
            "700/700 [==============================] - 1s 1ms/step - loss: 0.3077 - accuracy: 0.8785\n",
            "Epoch 252/300\n",
            "700/700 [==============================] - 1s 1ms/step - loss: 0.3028 - accuracy: 0.8787\n",
            "Epoch 253/300\n",
            "700/700 [==============================] - 1s 1ms/step - loss: 0.3062 - accuracy: 0.8767\n",
            "Epoch 254/300\n",
            "700/700 [==============================] - 1s 1ms/step - loss: 0.3161 - accuracy: 0.8756\n",
            "Epoch 255/300\n",
            "700/700 [==============================] - 1s 1ms/step - loss: 0.3151 - accuracy: 0.8781\n",
            "Epoch 256/300\n",
            "700/700 [==============================] - 1s 1ms/step - loss: 0.3032 - accuracy: 0.8819\n",
            "Epoch 257/300\n",
            "700/700 [==============================] - 1s 1ms/step - loss: 0.3014 - accuracy: 0.8801\n",
            "Epoch 258/300\n",
            "700/700 [==============================] - 1s 1ms/step - loss: 0.3170 - accuracy: 0.8757\n",
            "Epoch 259/300\n",
            "700/700 [==============================] - 1s 1ms/step - loss: 0.3043 - accuracy: 0.8791\n",
            "Epoch 260/300\n",
            "700/700 [==============================] - 1s 1ms/step - loss: 0.3105 - accuracy: 0.8760\n",
            "Epoch 261/300\n",
            "700/700 [==============================] - 1s 1ms/step - loss: 0.3017 - accuracy: 0.8806\n",
            "Epoch 262/300\n",
            "700/700 [==============================] - 1s 1ms/step - loss: 0.3039 - accuracy: 0.8786\n",
            "Epoch 263/300\n",
            "700/700 [==============================] - 1s 1ms/step - loss: 0.2987 - accuracy: 0.8819\n",
            "Epoch 264/300\n",
            "700/700 [==============================] - 1s 1ms/step - loss: 0.3036 - accuracy: 0.8834\n",
            "Epoch 265/300\n",
            "700/700 [==============================] - 1s 1ms/step - loss: 0.3102 - accuracy: 0.8779\n",
            "Epoch 266/300\n",
            "700/700 [==============================] - 1s 1ms/step - loss: 0.3055 - accuracy: 0.8774\n",
            "Epoch 267/300\n",
            "700/700 [==============================] - 1s 1ms/step - loss: 0.3080 - accuracy: 0.8802\n",
            "Epoch 268/300\n",
            "700/700 [==============================] - 1s 1ms/step - loss: 0.3211 - accuracy: 0.8695\n",
            "Epoch 269/300\n",
            "700/700 [==============================] - 1s 2ms/step - loss: 0.3172 - accuracy: 0.8713\n",
            "Epoch 270/300\n",
            "700/700 [==============================] - 1s 2ms/step - loss: 0.3001 - accuracy: 0.8780\n",
            "Epoch 271/300\n",
            "700/700 [==============================] - 1s 2ms/step - loss: 0.3081 - accuracy: 0.8795\n",
            "Epoch 272/300\n",
            "700/700 [==============================] - 1s 2ms/step - loss: 0.3152 - accuracy: 0.8755\n",
            "Epoch 273/300\n",
            "700/700 [==============================] - 1s 2ms/step - loss: 0.3140 - accuracy: 0.8736\n",
            "Epoch 274/300\n",
            "700/700 [==============================] - 1s 2ms/step - loss: 0.3075 - accuracy: 0.8766\n",
            "Epoch 275/300\n",
            "700/700 [==============================] - 1s 2ms/step - loss: 0.3131 - accuracy: 0.8746\n",
            "Epoch 276/300\n",
            "700/700 [==============================] - 1s 2ms/step - loss: 0.3226 - accuracy: 0.8734\n",
            "Epoch 277/300\n",
            "700/700 [==============================] - 1s 2ms/step - loss: 0.2983 - accuracy: 0.8821\n",
            "Epoch 278/300\n",
            "700/700 [==============================] - 1s 1ms/step - loss: 0.3024 - accuracy: 0.8775\n",
            "Epoch 279/300\n",
            "700/700 [==============================] - 1s 2ms/step - loss: 0.3174 - accuracy: 0.8739\n",
            "Epoch 280/300\n",
            "700/700 [==============================] - 1s 2ms/step - loss: 0.3078 - accuracy: 0.8789\n",
            "Epoch 281/300\n",
            "700/700 [==============================] - 1s 2ms/step - loss: 0.2960 - accuracy: 0.8853\n",
            "Epoch 282/300\n",
            "700/700 [==============================] - 1s 2ms/step - loss: 0.3104 - accuracy: 0.8750\n",
            "Epoch 283/300\n",
            "700/700 [==============================] - 1s 2ms/step - loss: 0.3026 - accuracy: 0.8768\n",
            "Epoch 284/300\n",
            "700/700 [==============================] - 1s 2ms/step - loss: 0.3085 - accuracy: 0.8777\n",
            "Epoch 285/300\n",
            "700/700 [==============================] - 1s 1ms/step - loss: 0.3040 - accuracy: 0.8790\n",
            "Epoch 286/300\n",
            "700/700 [==============================] - 1s 2ms/step - loss: 0.3060 - accuracy: 0.8759\n",
            "Epoch 287/300\n",
            "700/700 [==============================] - 1s 2ms/step - loss: 0.3060 - accuracy: 0.8785\n",
            "Epoch 288/300\n",
            "700/700 [==============================] - 1s 2ms/step - loss: 0.3060 - accuracy: 0.8802\n",
            "Epoch 289/300\n",
            "700/700 [==============================] - 1s 2ms/step - loss: 0.3240 - accuracy: 0.8729\n",
            "Epoch 290/300\n",
            "700/700 [==============================] - 1s 2ms/step - loss: 0.3203 - accuracy: 0.8731\n",
            "Epoch 291/300\n",
            "700/700 [==============================] - 1s 2ms/step - loss: 0.3159 - accuracy: 0.8736\n",
            "Epoch 292/300\n",
            "700/700 [==============================] - 1s 2ms/step - loss: 0.2924 - accuracy: 0.8828\n",
            "Epoch 293/300\n",
            "700/700 [==============================] - 1s 2ms/step - loss: 0.3049 - accuracy: 0.8795\n",
            "Epoch 294/300\n",
            "700/700 [==============================] - 1s 2ms/step - loss: 0.3172 - accuracy: 0.8711\n",
            "Epoch 295/300\n",
            "700/700 [==============================] - 1s 2ms/step - loss: 0.2997 - accuracy: 0.8792\n",
            "Epoch 296/300\n",
            "700/700 [==============================] - 1s 2ms/step - loss: 0.3026 - accuracy: 0.8773\n",
            "Epoch 297/300\n",
            "700/700 [==============================] - 1s 2ms/step - loss: 0.3140 - accuracy: 0.8719\n",
            "Epoch 298/300\n",
            "700/700 [==============================] - 1s 1ms/step - loss: 0.2996 - accuracy: 0.8819\n",
            "Epoch 299/300\n",
            "700/700 [==============================] - 1s 2ms/step - loss: 0.3139 - accuracy: 0.8747\n",
            "Epoch 300/300\n",
            "700/700 [==============================] - 1s 2ms/step - loss: 0.3009 - accuracy: 0.8815\n"
          ],
          "name": "stdout"
        }
      ]
    },
    {
      "cell_type": "code",
      "metadata": {
        "colab": {
          "base_uri": "https://localhost:8080/",
          "height": 712
        },
        "id": "l5-gWJiAL2A8",
        "outputId": "cf2a4da6-494c-4c60-ccd0-ee34d6131029"
      },
      "source": [
        "y_pred = classifier3.predict(X_test)\n",
        "y_pred = (y_pred > 0.5)\n",
        "report(y_test, y_pred)\n",
        "train_fpr, train_tpr, thresholds = roc_curve(y_train, classifier3.predict_proba(X_train))\n",
        "test_fpr, test_tpr, thresholds = roc_curve(y_test, classifier3.predict_proba(X_test))\n",
        "plt.plot(train_fpr, train_tpr, label=\"train AUC =\"+str(auc(train_fpr, train_tpr)))\n",
        "plt.plot(test_fpr, test_tpr, label=\"test AUC =\"+str(auc(test_fpr, test_tpr)))\n",
        "plt.legend(loc = 'lower right')\n",
        "plt.plot([0, 1], [0, 1],'r--')\n",
        "plt.xlim([0, 1])\n",
        "plt.ylim([0, 1])\n",
        "plt.legend(loc=4)\n",
        "plt.ylabel('True Positive Rate')\n",
        "plt.xlabel('False Positive Rate')"
      ],
      "execution_count": 90,
      "outputs": [
        {
          "output_type": "stream",
          "text": [
            "Confusion Matrix\n",
            "[[2283  106]\n",
            " [ 359  252]]\n",
            "+++++++++++++++++++++++++++++++++++++++++++++++++++++++++++++++++++++++++++\n",
            "Accuracy Score: 84.5000%\n",
            "Recall Score: 41.2439%\n",
            "Specificity Score: 95.5630%\n",
            "False Positive Rate: 4.4370%\n",
            "Precision Score: 70.3911%\n",
            "+++++++++++++++++++++++++++++++++++++++++++++++++++++++++++++++++++++++++++\n",
            "Classification Report\n",
            "              precision    recall  f1-score   support\n",
            "\n",
            "           0       0.86      0.96      0.91      2389\n",
            "           1       0.70      0.41      0.52       611\n",
            "\n",
            "    accuracy                           0.84      3000\n",
            "   macro avg       0.78      0.68      0.71      3000\n",
            "weighted avg       0.83      0.84      0.83      3000\n",
            "\n"
          ],
          "name": "stdout"
        },
        {
          "output_type": "stream",
          "text": [
            "/usr/local/lib/python3.7/dist-packages/tensorflow/python/keras/engine/sequential.py:425: UserWarning: `model.predict_proba()` is deprecated and will be removed after 2021-01-01. Please use `model.predict()` instead.\n",
            "  warnings.warn('`model.predict_proba()` is deprecated and '\n"
          ],
          "name": "stderr"
        },
        {
          "output_type": "execute_result",
          "data": {
            "text/plain": [
              "Text(0.5, 0, 'False Positive Rate')"
            ]
          },
          "metadata": {
            "tags": []
          },
          "execution_count": 90
        },
        {
          "output_type": "display_data",
          "data": {
            "image/png": "[encoded data removed]",
            "text/plain": [
              "<Figure size 432x288 with 1 Axes>"
            ]
          },
          "metadata": {
            "tags": [],
            "needs_background": "light"
          }
        }
      ]
    },
    {
      "cell_type": "code",
      "metadata": {
        "id": "0Jx7BLvFT4cn"
      },
      "source": [
        ""
      ],
      "execution_count": null,
      "outputs": []
    },
    {
      "cell_type": "code",
      "metadata": {
        "id": "K-OW1br6T42I"
      },
      "source": [
        ""
      ],
      "execution_count": null,
      "outputs": []
    },
    {
      "cell_type": "code",
      "metadata": {
        "id": "30LfMZaQ7OhL"
      },
      "source": [
        "# y_pred = classifier.predict(X_test)\n",
        "# y_pred = (y_pred > 0.5)\n",
        "# train_fpr, train_tpr, thresholds = roc_curve(y_train, y_pred[:,1])#it give diffrante threshold and tpr,fpr on train data\n",
        "# test_fpr, test_tpr, thresholds = roc_curve(y_test, y_pred[:,1])#it give diffrante threshold and tpr,fpr on test data\n",
        "# # #plot the auc and roc\n",
        "# # plt.plot(train_fpr, train_tpr, label=\"train AUC =\"+str(auc(train_fpr, train_tpr)))\n",
        "# # plt.plot(test_fpr, test_tpr, label=\"test AUC =\"+str(auc(test_fpr, test_tpr)))"
      ],
      "execution_count": null,
      "outputs": []
    },
    {
      "cell_type": "code",
      "metadata": {
        "id": "JLl7ZuhF8Pho"
      },
      "source": [
        "# train_fpr, train_tpr, thresholds = roc_curve(y_train, classifier.predict_proba(X_train))\n"
      ],
      "execution_count": null,
      "outputs": []
    },
    {
      "cell_type": "code",
      "metadata": {
        "id": "fw9jhQNI82gR"
      },
      "source": [
        ""
      ],
      "execution_count": null,
      "outputs": []
    },
    {
      "cell_type": "code",
      "metadata": {
        "id": "utLuNvDg8GMJ"
      },
      "source": [
        ""
      ],
      "execution_count": null,
      "outputs": []
    },
    {
      "cell_type": "code",
      "metadata": {
        "id": "PlH-PVcy7j9W"
      },
      "source": [
        ""
      ],
      "execution_count": null,
      "outputs": []
    },
    {
      "cell_type": "code",
      "metadata": {
        "id": "V-cd1gza7Oox"
      },
      "source": [
        ""
      ],
      "execution_count": null,
      "outputs": []
    },
    {
      "cell_type": "code",
      "metadata": {
        "id": "tp-Ic3y45_ut"
      },
      "source": [
        ""
      ],
      "execution_count": null,
      "outputs": []
    },
    {
      "cell_type": "code",
      "metadata": {
        "id": "iL2VC4fU5_0p"
      },
      "source": [
        ""
      ],
      "execution_count": null,
      "outputs": []
    },
    {
      "cell_type": "code",
      "metadata": {
        "id": "v36k_3BH5_6V"
      },
      "source": [
        ""
      ],
      "execution_count": null,
      "outputs": []
    },
    {
      "cell_type": "code",
      "metadata": {
        "id": "8Bk5gZsb5_9R"
      },
      "source": [
        ""
      ],
      "execution_count": null,
      "outputs": []
    },
    {
      "cell_type": "code",
      "metadata": {
        "id": "MmkZ5Aaw6AAO"
      },
      "source": [
        ""
      ],
      "execution_count": null,
      "outputs": []
    },
    {
      "cell_type": "code",
      "metadata": {
        "id": "fQ3pWvYM6AJX"
      },
      "source": [
        ""
      ],
      "execution_count": null,
      "outputs": []
    },
    {
      "cell_type": "code",
      "metadata": {
        "id": "OSGqNnZg6APu"
      },
      "source": [
        ""
      ],
      "execution_count": null,
      "outputs": []
    },
    {
      "cell_type": "code",
      "metadata": {
        "id": "KIgcvgAn6AUn"
      },
      "source": [
        ""
      ],
      "execution_count": null,
      "outputs": []
    },
    {
      "cell_type": "code",
      "metadata": {
        "id": "MRCuy83H6AYr"
      },
      "source": [
        ""
      ],
      "execution_count": null,
      "outputs": []
    },
    {
      "cell_type": "code",
      "metadata": {
        "id": "pzJoOghA6Abq"
      },
      "source": [
        ""
      ],
      "execution_count": null,
      "outputs": []
    },
    {
      "cell_type": "code",
      "metadata": {
        "id": "kqjpdJ4b6Ae7"
      },
      "source": [
        ""
      ],
      "execution_count": null,
      "outputs": []
    }
  ]
}